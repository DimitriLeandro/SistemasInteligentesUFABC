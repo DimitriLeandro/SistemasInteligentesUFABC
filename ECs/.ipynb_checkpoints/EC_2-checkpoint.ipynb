{
 "cells": [
  {
   "cell_type": "markdown",
   "metadata": {},
   "source": [
    "# Sistemas Inteligentes\n",
    "\n",
    "## Exercício Computacional 2 - Classificação\n",
    "\n",
    "Preencha todas as células adequadamente e responda todas as perguntas de forma completa e elaborada."
   ]
  },
  {
   "cell_type": "markdown",
   "metadata": {},
   "source": [
    "### Identificação do Aluno"
   ]
  },
  {
   "cell_type": "markdown",
   "metadata": {},
   "source": [
    "#### Nome Completo"
   ]
  },
  {
   "cell_type": "markdown",
   "metadata": {},
   "source": [
    "Dimitri Leandro de Oliveira Silva"
   ]
  },
  {
   "cell_type": "markdown",
   "metadata": {},
   "source": [
    "## Desenvolvimento"
   ]
  },
  {
   "cell_type": "code",
   "execution_count": 2,
   "metadata": {},
   "outputs": [],
   "source": [
    "#fazendo as importações necessárias e removendo os avisos\n",
    "from sklearn.datasets import fetch_olivetti_faces\n",
    "from matplotlib import pyplot as plt\n",
    "from sklearn.model_selection import train_test_split\n",
    "from sklearn.model_selection import KFold\n",
    "from sklearn.discriminant_analysis import LinearDiscriminantAnalysis\n",
    "from sklearn.metrics import accuracy_score, confusion_matrix\n",
    "from sklearn.metrics import classification_report\n",
    "import numpy\n",
    "import warnings\n",
    "\n",
    "warnings.filterwarnings('ignore')"
   ]
  },
  {
   "cell_type": "markdown",
   "metadata": {},
   "source": [
    "Abaixo, **dataset** recebe todo o dataset retornado pela função fetch_olivetti_faces(). Já **imagens** é uma matriz tridimensional com todos os rostos do dataset. \n",
    "Para verificar se está tudo funcionando, printei uma das imagens."
   ]
  },
  {
   "cell_type": "code",
   "execution_count": 6,
   "metadata": {},
   "outputs": [
    {
     "data": {
      "text/plain": [
       "<matplotlib.image.AxesImage at 0x7fb336e140b8>"
      ]
     },
     "execution_count": 6,
     "metadata": {},
     "output_type": "execute_result"
    },
    {
     "data": {
      "image/png": "[encoded data removed]",
      "text/plain": [
       "<Figure size 432x288 with 1 Axes>"
      ]
     },
     "metadata": {
      "needs_background": "light"
     },
     "output_type": "display_data"
    }
   ],
   "source": [
    "dataset = fetch_olivetti_faces()\n",
    "imagens = dataset.images\n",
    "\n",
    "plt.imshow(imagens[0])"
   ]
  },
  {
   "cell_type": "markdown",
   "metadata": {},
   "source": [
    "A documentação informa que **data** retorna as imagens em formato unidimensional, ou seja, não é necessário usar o **reshape** na matriz **imagens**.\n",
    "\n",
    "Abaixo, **'x'** recebe uma matriz bidimensional onde cada linha representa uma imagem. Já **y** recebe o valor da classe correspondente a cada imagem da matriz __x__."
   ]
  },
  {
   "cell_type": "code",
   "execution_count": 3,
   "metadata": {},
   "outputs": [
    {
     "name": "stdout",
     "output_type": "stream",
     "text": [
      "(400, 4096)\n"
     ]
    }
   ],
   "source": [
    "x = dataset.data\n",
    "y = dataset.target\n",
    "\n",
    "#printando o formato de x só pra ver se está bidimensional mesmo e garantir que está tudo ok.\n",
    "print(x.shape)"
   ]
  },
  {
   "cell_type": "markdown",
   "metadata": {},
   "source": [
    "## Caso com train_test_split"
   ]
  },
  {
   "cell_type": "markdown",
   "metadata": {},
   "source": [
    "Abaixo, estou fazendo a separação dos dados usados para treinamento e para teste escolhendo os dados aleatoriamente com a função train_test_split(). O parâmetro **test_size** foi usado para determinar que 80% de toda a base de dados será usada para treinamento, e o restante, para teste.\n",
    "\n",
    "Logo após, uso a função **fit** para treinar o **LDA** e atribuo à variável **yPredLDA** os valores das classes preditas para os dados **x** de treinamento."
   ]
  },
  {
   "cell_type": "code",
   "execution_count": 104,
   "metadata": {},
   "outputs": [],
   "source": [
    "xTrain, xTest, yTrain, yTest = train_test_split(x, y, test_size=0.20, random_state=1)\n",
    "\n",
    "LDA = LinearDiscriminantAnalysis()\n",
    "LDA.fit(xTrain, yTrain)\n",
    "yPredLDA = LDA.predict(xTest)"
   ]
  },
  {
   "cell_type": "markdown",
   "metadata": {},
   "source": [
    "Finalmente, verificando qual foi a acurácia do classificador e printando sua matriz de confusão em escala de cinza."
   ]
  },
  {
   "cell_type": "code",
   "execution_count": 106,
   "metadata": {},
   "outputs": [
    {
     "name": "stdout",
     "output_type": "stream",
     "text": [
      "Acurácia do LDA:\n",
      " 0.975\n"
     ]
    }
   ],
   "source": [
    "acuraciaLDATTS = accuracy_score(yTest, yPredLDA)\n",
    "print(\"Acurácia do LDA:\\n\", acuraciaLDATTS)"
   ]
  },
  {
   "cell_type": "code",
   "execution_count": 107,
   "metadata": {},
   "outputs": [
    {
     "name": "stdout",
     "output_type": "stream",
     "text": [
      "Matriz de Confusão do LDA: \n",
      "\n"
     ]
    },
    {
     "data": {
      "text/plain": [
       "<matplotlib.image.AxesImage at 0x7f3c31594eb8>"
      ]
     },
     "execution_count": 107,
     "metadata": {},
     "output_type": "execute_result"
    },
    {
     "data": {
      "image/png": "[encoded data removed]",
      "text/plain": [
       "<Figure size 432x288 with 1 Axes>"
      ]
     },
     "metadata": {},
     "output_type": "display_data"
    }
   ],
   "source": [
    "matrizLDA = confusion_matrix(yTest, yPredLDA)\n",
    "print(\"Matriz de Confusão do LDA: \\n\")\n",
    "plt.imshow(matrizLDA, cmap='gray')"
   ]
  },
  {
   "cell_type": "markdown",
   "metadata": {},
   "source": [
    "## Caso com k-Fold Cross Validation"
   ]
  },
  {
   "cell_type": "markdown",
   "metadata": {},
   "source": [
    "Abaixo, é criado o objeto da classe KFold para testar o classificador LDA. Para que os testes fossem iguais aos do caso com train_test_split, escolhi separar os dados em cinco \"pacotes\". O k-Fold então fará cinco iterações, sendo que em cada uma delas um \"pacote\" será usado para teste e os \"pacotes\" restantes serão usados no treinamento. Ou seja, em cada iteração 80% dos dados serão usados para treinamento, assim como no caso do train_test_split."
   ]
  },
  {
   "cell_type": "code",
   "execution_count": 103,
   "metadata": {},
   "outputs": [
    {
     "name": "stdout",
     "output_type": "stream",
     "text": [
      "ITERAÇÃO NÚMERO 1:\n",
      "Nessa iteração, o classificador obteve 1.0 de acurácia.\n",
      "\n",
      "\n",
      "ITERAÇÃO NÚMERO 2:\n",
      "Nessa iteração, o classificador obteve 0.975 de acurácia.\n",
      "\n",
      "\n",
      "ITERAÇÃO NÚMERO 3:\n",
      "Nessa iteração, o classificador obteve 0.9875 de acurácia.\n",
      "\n",
      "\n",
      "ITERAÇÃO NÚMERO 4:\n",
      "Nessa iteração, o classificador obteve 0.95 de acurácia.\n",
      "\n",
      "\n",
      "ITERAÇÃO NÚMERO 5:\n",
      "Nessa iteração, o classificador obteve 1.0 de acurácia.\n",
      "\n",
      "\n"
     ]
    }
   ],
   "source": [
    "objKFold = KFold(n_splits = 5, shuffle=True, random_state=None)\n",
    "LDA = LinearDiscriminantAnalysis()\n",
    "\n",
    "vetorAcuracias = []\n",
    "index = 0\n",
    "\n",
    "for trainIndex, testIndex in objKFold.split(x):\n",
    "    index += 1\n",
    "    print(\"ITERAÇÃO NÚMERO \" + str(index) + \":\")\n",
    "    xTrain, xTest = x[trainIndex], x[testIndex]\n",
    "    yTrain, yTest = y[trainIndex], y[testIndex]\n",
    "    LDA.fit(xTrain, yTrain)\n",
    "    yPredLDA = LDA.predict(xTest)\n",
    "    vetorAcuracias.append(accuracy_score(yPredLDA, yTest))\n",
    "    print(\"Nessa iteração, o classificador obteve\", vetorAcuracias[index - 1], \"de acurácia.\\n\\n\")"
   ]
  },
  {
   "cell_type": "markdown",
   "metadata": {},
   "source": [
    "Inicialmente, tentei usar o algoritmo k-Fold sem que os \"pacotes\" estivessem com os dados embaralhados. Entretanto, sempre obtinha acurácias iguais a 0.0.\n",
    "\n",
    "Um usuário do Stack Overflow explicou que algumas bases de dados podem estar ordenados por classes. Dessa forma, os \"pacotes\" do algoritmo k-Fold não conteriam amostras de todas as classes, causando erros na classificação.\n",
    "\n",
    "\"The shuffle is mainly useful if your data is somehow sorted by classes, because then each fold might contain only samples from one class\".\n",
    "\n",
    "https://stackoverflow.com/questions/12237127/how-to-use-shuffle-in-kfold-in-scikit-learn\n",
    "\n",
    "Abaixo, a prova de que os dados estão ordenados por classes, e que, portanto, o suffle é necessário."
   ]
  },
  {
   "cell_type": "code",
   "execution_count": 35,
   "metadata": {},
   "outputs": [
    {
     "name": "stdout",
     "output_type": "stream",
     "text": [
      "[ 0  0  0  0  0  0  0  0  0  0  1  1  1  1  1  1  1  1  1  1  2  2  2  2\n",
      "  2  2  2  2  2  2  3  3  3  3  3  3  3  3  3  3  4  4  4  4  4  4  4  4\n",
      "  4  4  5  5  5  5  5  5  5  5  5  5  6  6  6  6  6  6  6  6  6  6  7  7\n",
      "  7  7  7  7  7  7  7  7  8  8  8  8  8  8  8  8  8  8  9  9  9  9  9  9\n",
      "  9  9  9  9 10 10 10 10 10 10 10 10 10 10 11 11 11 11 11 11 11 11 11 11\n",
      " 12 12 12 12 12 12 12 12 12 12 13 13 13 13 13 13 13 13 13 13 14 14 14 14\n",
      " 14 14 14 14 14 14 15 15 15 15 15 15 15 15 15 15 16 16 16 16 16 16 16 16\n",
      " 16 16 17 17 17 17 17 17 17 17 17 17 18 18 18 18 18 18 18 18 18 18 19 19\n",
      " 19 19 19 19 19 19 19 19 20 20 20 20 20 20 20 20 20 20 21 21 21 21 21 21\n",
      " 21 21 21 21 22 22 22 22 22 22 22 22 22 22 23 23 23 23 23 23 23 23 23 23\n",
      " 24 24 24 24 24 24 24 24 24 24 25 25 25 25 25 25 25 25 25 25 26 26 26 26\n",
      " 26 26 26 26 26 26 27 27 27 27 27 27 27 27 27 27 28 28 28 28 28 28 28 28\n",
      " 28 28 29 29 29 29 29 29 29 29 29 29 30 30 30 30 30 30 30 30 30 30 31 31\n",
      " 31 31 31 31 31 31 31 31 32 32 32 32 32 32 32 32 32 32 33 33 33 33 33 33\n",
      " 33 33 33 33 34 34 34 34 34 34 34 34 34 34 35 35 35 35 35 35 35 35 35 35\n",
      " 36 36 36 36 36 36 36 36 36 36 37 37 37 37 37 37 37 37 37 37 38 38 38 38\n",
      " 38 38 38 38 38 38 39 39 39 39 39 39 39 39 39 39]\n"
     ]
    }
   ],
   "source": [
    "print(y)"
   ]
  },
  {
   "cell_type": "markdown",
   "metadata": {},
   "source": [
    "Finalmente, verificando quais foram as acurácias mínima, máxima, média, a variância e o desvio padrão."
   ]
  },
  {
   "cell_type": "code",
   "execution_count": 124,
   "metadata": {},
   "outputs": [
    {
     "name": "stdout",
     "output_type": "stream",
     "text": [
      "Mínima:\t\t 0.95000\n",
      "Máxima:\t\t 1.00000\n",
      "Média:\t\t 0.98250\n",
      "Variância:\t 0.00035\n",
      "Desvio Padrão:\t 0.01871\n"
     ]
    }
   ],
   "source": [
    "from numpy import average, amin, amax, var, std\n",
    "\n",
    "print(\"Mínima:\\t\\t\", \"{0:.5f}\".format(amin(vetorAcuracias)))\n",
    "print(\"Máxima:\\t\\t\", \"{0:.5f}\".format(amax(vetorAcuracias)))\n",
    "print(\"Média:\\t\\t\", \"{0:.5f}\".format(average(vetorAcuracias)))\n",
    "print(\"Variância:\\t\", \"{0:.5f}\".format(var(vetorAcuracias)))\n",
    "print(\"Desvio Padrão:\\t\", \"{0:.5f}\".format(std(vetorAcuracias)))"
   ]
  },
  {
   "cell_type": "markdown",
   "metadata": {},
   "source": [
    "## Questões"
   ]
  },
  {
   "cell_type": "markdown",
   "metadata": {},
   "source": [
    "O classificador obteve uma boa acurácia nessa base de dados. Quando usado o train_test_split, o classificador LDA obteve 97,5% de acurácia, e quando usado o algoritmo k-Fold, o classificador chegou a obter 100% de acurácia em uma das iterações.\n",
    "\n",
    "Entretanto, como abordado no primeiro exercício computacional, também é importante avaliar a robustez do classificador, ou seja, é necessário responder a pergunta: \"O classificador continua bem acurado quando exposto a dados que não estejam necessariamente na base de dados utilizada para seu treinamento?\".\n",
    "\n",
    "Por ter usado uma base de dados pequena (400 imagens), acredito que esse classificador precise passar por mais testes antes que se possa afirmar que ele é robusto. \n",
    "\n",
    "Além disso, no teste com train_test_split foi possivel observar na matriz de confusão que o classificador errou todas as vezes em que a imagem deveria ter sido atribuída à classe 6. Isso será abordado com mais profundidade na questão 3."
   ]
  },
  {
   "cell_type": "markdown",
   "metadata": {},
   "source": [
    "O pacote **metrics** da biblioteca **sklearn** possui a função **classification_report** que oferece alguns dados abordados na segunda aula desta disciplina.\n",
    "\n",
    "Abaixo, a função foi utilizada para um novo treinamento com train_test_split e retornou os valores de Precisão e Recall para cada classe da base de dados.\n",
    "\n",
    "A precisão representa a taxa de true positives considerando a classe predita, já o recall, a taxa de true positives considerando a classe real.\n",
    "\n",
    "Precisão = (TP)/(TP + FP)\n",
    "\n",
    "Recall = (TP)/(TP + FN)\n",
    "\n",
    "Além disso, a função também retorna f-score, que é a média harmônica entre a precisão e o recall.\n",
    "\n",
    "\n",
    "https://machinelearningmastery.com/metrics-evaluate-machine-learning-algorithms-python/\n",
    "\n",
    "https://en.wikipedia.org/wiki/Precision_and_recall"
   ]
  },
  {
   "cell_type": "code",
   "execution_count": 113,
   "metadata": {},
   "outputs": [
    {
     "name": "stdout",
     "output_type": "stream",
     "text": [
      "             precision    recall  f1-score   support\n",
      "\n",
      "          0       1.00      1.00      1.00         3\n",
      "          1       1.00      1.00      1.00         3\n",
      "          2       0.50      1.00      0.67         1\n",
      "          4       1.00      1.00      1.00         1\n",
      "          5       1.00      1.00      1.00         1\n",
      "          6       1.00      1.00      1.00         3\n",
      "          7       0.00      0.00      0.00         1\n",
      "          8       1.00      1.00      1.00         3\n",
      "          9       1.00      1.00      1.00         2\n",
      "         10       1.00      1.00      1.00         3\n",
      "         11       1.00      1.00      1.00         1\n",
      "         12       1.00      1.00      1.00         2\n",
      "         13       1.00      1.00      1.00         2\n",
      "         16       1.00      1.00      1.00         1\n",
      "         17       1.00      1.00      1.00         3\n",
      "         18       0.67      1.00      0.80         2\n",
      "         19       1.00      1.00      1.00         1\n",
      "         20       1.00      1.00      1.00         3\n",
      "         21       1.00      1.00      1.00         2\n",
      "         22       1.00      1.00      1.00         6\n",
      "         23       1.00      1.00      1.00         1\n",
      "         24       1.00      1.00      1.00         2\n",
      "         25       1.00      1.00      1.00         1\n",
      "         26       1.00      1.00      1.00         1\n",
      "         27       1.00      1.00      1.00         4\n",
      "         28       1.00      1.00      1.00         2\n",
      "         29       1.00      1.00      1.00         2\n",
      "         30       1.00      1.00      1.00         1\n",
      "         31       1.00      1.00      1.00         3\n",
      "         32       1.00      1.00      1.00         3\n",
      "         33       1.00      1.00      1.00         1\n",
      "         34       1.00      1.00      1.00         2\n",
      "         35       1.00      0.50      0.67         2\n",
      "         36       1.00      1.00      1.00         3\n",
      "         37       1.00      1.00      1.00         2\n",
      "         38       1.00      1.00      1.00         4\n",
      "         39       1.00      1.00      1.00         2\n",
      "\n",
      "avg / total       0.97      0.97      0.97        80\n",
      "\n"
     ]
    }
   ],
   "source": [
    "xTrain, xTest, yTrain, yTest = train_test_split(x, y, test_size=0.20, random_state=1)\n",
    "\n",
    "LDA = LinearDiscriminantAnalysis()\n",
    "LDA.fit(xTrain, yTrain)\n",
    "yPredLDA = LDA.predict(xTest)\n",
    "\n",
    "report = classification_report(yTest, yPredLDA)\n",
    "print(report)"
   ]
  },
  {
   "cell_type": "markdown",
   "metadata": {},
   "source": [
    "Na primeira parte do exercício, quando se separou os dados com a função train_test_split, foi possível observar que o classificador obteve um desempenho péssimo para a classe 6, atribuindo todas as imagens dessa classe à classe 2. Abaixo, a matriz de confusão dessa parte do exercício foi plotada novamente para melhor visualização."
   ]
  },
  {
   "cell_type": "code",
   "execution_count": 108,
   "metadata": {},
   "outputs": [
    {
     "data": {
      "text/plain": [
       "<matplotlib.image.AxesImage at 0x7f3c31562908>"
      ]
     },
     "execution_count": 108,
     "metadata": {},
     "output_type": "execute_result"
    },
    {
     "data": {
      "image/png": "[encoded data removed]",
      "text/plain": [
       "<Figure size 432x288 with 1 Axes>"
      ]
     },
     "metadata": {},
     "output_type": "display_data"
    }
   ],
   "source": [
    "plt.imshow(matrizLDA, cmap='gray')"
   ]
  },
  {
   "cell_type": "markdown",
   "metadata": {},
   "source": [
    "Já na resolução da questão anterior, onde é possível ver a tabela com valores de recall, precisão e f-score, o classificador teve um desempenho péssimo, dessa vez, na classe 7.\n",
    "\n",
    "Acredito que isso possa ter ocorrido devido a dois fatores: o primeiro deles diz respeito ao tamanho da base de dados. Usar 400 imagens parece ser pouco em comparação com a base de dados de dígitos usada no EC1 que continha mais de 17 mil imagens. Além disso, ao usar a função train_test_split não se pode garantir que todas as classes terão o mesmo número de imagens selecionadas para treinamento. Fica nítido ao observar a matriz de confusão que algumas classes foram privilegiadas na randomização, como a classe 19, que aparece muito mais clara que as demais. "
   ]
  },
  {
   "cell_type": "markdown",
   "metadata": {},
   "source": [
    "Como abordado na questão anterior, acredito que aumentar o tamanho da base de dados poderia se benéfico. Por ora, mostra-se oportuno testar o classificador tendo a mesma relação quantidade de imagens por classe. Assim, será possível testar a segunda hipótese abordada na questão anterior, onde foi sugerido que ao sortear aleatoriamente as classes para treinamento, algumas seriam beneficiadas, prejudicando o classificador."
   ]
  },
  {
   "cell_type": "code",
   "execution_count": 117,
   "metadata": {},
   "outputs": [
    {
     "name": "stdout",
     "output_type": "stream",
     "text": [
      "[0, 0, 1, 1, 2, 2, 3, 3, 4, 4, 5, 5, 6, 6, 7, 7, 8, 8, 9, 9, 10, 10, 11, 11, 12, 12, 13, 13, 14, 14, 15, 15, 16, 16, 17, 17, 18, 18, 19, 19, 20, 20, 21, 21, 22, 22, 23, 23, 24, 24, 25, 25, 26, 26, 27, 27, 28, 28, 29, 29, 30, 30, 31, 31, 32, 32, 33, 33, 34, 34, 35, 35, 36, 36, 37, 37, 38, 38, 39, 39]\n"
     ]
    }
   ],
   "source": [
    "xTrain = []\n",
    "xTest = []\n",
    "yTrain = []\n",
    "yTest = []\n",
    "\n",
    "contador = 0\n",
    "\n",
    "for index, value in enumerate(y):\n",
    "    contador += 1\n",
    "    if contador <= 8:\n",
    "        xTrain.append(x[index])\n",
    "        yTrain.append(y[index])\n",
    "    else:\n",
    "        xTest.append(x[index])\n",
    "        yTest.append(y[index])\n",
    "        if contador == 10:\n",
    "            contador = 0\n",
    "            \n",
    "#verificando se realmente há duas imagens por classe para realizar os testes\n",
    "print(yTest)"
   ]
  },
  {
   "cell_type": "code",
   "execution_count": 121,
   "metadata": {},
   "outputs": [
    {
     "data": {
      "text/plain": [
       "<matplotlib.image.AxesImage at 0x7f3c315fa6d8>"
      ]
     },
     "execution_count": 121,
     "metadata": {},
     "output_type": "execute_result"
    },
    {
     "data": {
      "image/png": "[encoded data removed]",
      "text/plain": [
       "<Figure size 432x288 with 1 Axes>"
      ]
     },
     "metadata": {},
     "output_type": "display_data"
    }
   ],
   "source": [
    "#treinando e predizendo os valores de teste para o classificador\n",
    "LDA.fit(xTrain, yTrain)\n",
    "yPred = LDA.predict(xTest)\n",
    "plt.imshow(confusion_matrix(yTest, yPred), cmap='gray')"
   ]
  },
  {
   "cell_type": "markdown",
   "metadata": {},
   "source": [
    "A matriz de confusão acima mostra que o classificador apresentou problemas novamente na classe 7, porém, dessa vez, nenhuma das classes apareceu com 0% de precisão ou recall.\n",
    "\n",
    "Ainda acredito que seja inconsistente afirmar com tanta certeza que por ter uma quantidade pequena de dados, a randomização durante a separação dos dados de treinamento e teste possa ter prejudicado o classificador, mas ainda é possível sustentar essa ideia como uma hipótese."
   ]
  },
  {
   "cell_type": "markdown",
   "metadata": {},
   "source": [
    "Com foi visto anteriormente, ao printar o valor de __y__ percebe-se que cada classe contém exatamente 10 imagens. Para usar exatamente metade da base de dados garantindo que a proporção de imagens por classe se mantenha, foram criadas duas listas **xMetade** e **yMetade** que contém 5 imagens de cada classe cada."
   ]
  },
  {
   "cell_type": "code",
   "execution_count": 122,
   "metadata": {},
   "outputs": [
    {
     "name": "stdout",
     "output_type": "stream",
     "text": [
      "Verificando se há, de fato, 5 imagens por classe: \n",
      "\n",
      " [0, 0, 0, 0, 0, 1, 1, 1, 1, 1, 2, 2, 2, 2, 2, 3, 3, 3, 3, 3, 4, 4, 4, 4, 4, 5, 5, 5, 5, 5, 6, 6, 6, 6, 6, 7, 7, 7, 7, 7, 8, 8, 8, 8, 8, 9, 9, 9, 9, 9, 10, 10, 10, 10, 10, 11, 11, 11, 11, 11, 12, 12, 12, 12, 12, 13, 13, 13, 13, 13, 14, 14, 14, 14, 14, 15, 15, 15, 15, 15, 16, 16, 16, 16, 16, 17, 17, 17, 17, 17, 18, 18, 18, 18, 18, 19, 19, 19, 19, 19, 20, 20, 20, 20, 20, 21, 21, 21, 21, 21, 22, 22, 22, 22, 22, 23, 23, 23, 23, 23, 24, 24, 24, 24, 24, 25, 25, 25, 25, 25, 26, 26, 26, 26, 26, 27, 27, 27, 27, 27, 28, 28, 28, 28, 28, 29, 29, 29, 29, 29, 30, 30, 30, 30, 30, 31, 31, 31, 31, 31, 32, 32, 32, 32, 32, 33, 33, 33, 33, 33, 34, 34, 34, 34, 34, 35, 35, 35, 35, 35, 36, 36, 36, 36, 36, 37, 37, 37, 37, 37, 38, 38, 38, 38, 38, 39, 39, 39, 39, 39]\n"
     ]
    }
   ],
   "source": [
    "xMetade = []\n",
    "yMetade = []\n",
    "\n",
    "contador = 0\n",
    "\n",
    "for index, value in enumerate(y):\n",
    "    contador += 1\n",
    "    if contador <= 5:\n",
    "        xMetade.append(x[index])\n",
    "        yMetade.append(y[index])\n",
    "    else:\n",
    "        if contador == 10:\n",
    "            contador = 0\n",
    "            \n",
    "print(\"Verificando se há, de fato, 5 imagens por classe: \\n\\n\", yMetade)"
   ]
  },
  {
   "cell_type": "markdown",
   "metadata": {},
   "source": [
    "Abaixo, o LDA será testado com metade da base de dados usando a função train_test_split."
   ]
  },
  {
   "cell_type": "code",
   "execution_count": 123,
   "metadata": {},
   "outputs": [
    {
     "name": "stdout",
     "output_type": "stream",
     "text": [
      "Acurácia do LDA com metade da base de dados:\n",
      " 0.9\n"
     ]
    }
   ],
   "source": [
    "xTrain, xTest, yTrain, yTest = train_test_split(xMetade, yMetade, test_size=0.20, random_state=1)\n",
    "\n",
    "LDA.fit(xTrain, yTrain)\n",
    "yPredMetade = LDA.predict(xTest)\n",
    "\n",
    "acuraciaMetade = accuracy_score(yTest, yPredMetade)\n",
    "print(\"Acurácia do LDA com metade da base de dados:\\n\", acuraciaMetade)"
   ]
  },
  {
   "cell_type": "markdown",
   "metadata": {},
   "source": [
    "Como é possivel observar, o classificador passou de 97,5% com a base completa para 90% com metade da base. Apesar de ainda ser um valor alto de acurácia, se considerarmos que 100% dos erros correspondiam a 2,5% das classificações, errar em 10% das vezes significa dizer que o classificador passou a errar 300% a mais.\n",
    "\n",
    "Essa observação corrobora com a hipótese de que a base de dados contém poucas imagens, prejudicando o treinamento do classificador."
   ]
  },
  {
   "cell_type": "markdown",
   "metadata": {},
   "source": [
    "São métodos utilizados para avaliar melhor um classificador. \n",
    "\n",
    "O método **k-Fold** consiste em separar a base de dados em __k__ pacotes com a mesma quantidade de dados. Em seguida, são feitas **k** iterações. Em cada iteração um pacote é selecionado para teste e o restante é usado para treinamento. Ao final é possível obter valores como a média, variância, desvio padrão e outros a respeito das acurácias (ou outras métricas) em cada iteração.\n",
    "\n",
    "Acredito que o uso desses métodos possa oferecer avaliações interessantes a respeito da consistência do classificador. Por exemplo, quando o método k-Fold foi empregado durante o desenvolvimento do exercício, pôde-se notar que o valor da acurácia variou entre 95% e 100%. Ou seja, esse método informa que o classificador foi um tanto quanto inconsistente, afinal, como pode ele ter obtido 100% de acurácia em uma das iterações e, logo em seguida, ter aumentado sua taxa de erro para 5%? \n",
    "\n",
    "Essa avaliação também pode ser feita com base nos quase 2% obtidos de desvio padrão.\n",
    "\n",
    "Em outras palavras:\n",
    "\n",
    "\"A validação cruzada é uma técnica para avaliar a capacidade de generalização de um modelo, a partir de um conjunto de dados.\"\n",
    "\n",
    "https://www.youtube.com/watch?v=e0JcXMzhtdY\n",
    "https://pt.wikipedia.org/wiki/Valida%C3%A7%C3%A3o_cruzada"
   ]
  },
  {
   "cell_type": "markdown",
   "metadata": {},
   "source": [
    "## Referências"
   ]
  },
  {
   "cell_type": "markdown",
   "metadata": {},
   "source": [
    "[Scikit-Learn - Datasets - Olivetti Faces](http://scikit-learn.org/stable/modules/generated/sklearn.datasets.fetch_olivetti_faces.html)\n",
    "\n",
    "[Matplotlib - Pyplot](https://matplotlib.org/api/pyplot_summary.html)\n",
    "\n",
    "[Numpy](https://docs.scipy.org/doc/numpy/reference/)\n",
    "\n",
    "[Scikit-Learn - Train, Test and Split](http://scikit-learn.org/stable/modules/generated/sklearn.model_selection.train_test_split.html)\n",
    "\n",
    "[Scikit-Learn - KFold](http://scikit-learn.org/stable/modules/generated/sklearn.model_selection.KFold.html#sklearn.model_selection.KFold)\n",
    "\n",
    "[Scikit-Learn - Resample (Bootstrap)](http://scikit-learn.org/stable/modules/generated/sklearn.utils.resample.html)\n",
    "\n",
    "[Scikit-Learn - KNeighborsClassifier](http://scikit-learn.org/stable/modules/generated/sklearn.neighbors.KNeighborsClassifier.html)\n",
    "\n",
    "[Scikit-Learn - DecisionTreeClassifier](http://scikit-learn.org/stable/modules/generated/sklearn.tree.DecisionTreeClassifier.html)\n",
    "\n",
    "[Scikit-Learn - LinearDiscriminantAnalysis](http://scikit-learn.org/stable/modules/generated/sklearn.discriminant_analysis.LinearDiscriminantAnalysis.html)\n",
    "\n",
    "[Scikit-Learn - LinearSVC](http://scikit-learn.org/stable/modules/generated/sklearn.svm.LinearSVC.html#sklearn.svm.LinearSVC)\n",
    "\n",
    "[Scikit-Learn - MLPClassifier](http://scikit-learn.org/stable/modules/generated/sklearn.neural_network.MLPClassifier.html#sklearn.neural_network.MLPClassifier)\n",
    "\n",
    "[Scikit-Learn - Accuracy Score](http://scikit-learn.org/stable/modules/generated/sklearn.metrics.accuracy_score.html)\n",
    "\n",
    "[Scikit-Learn - Confusion Matrix](http://scikit-learn.org/stable/modules/generated/sklearn.metrics.confusion_matrix.html)"
   ]
  }
 ],
 "metadata": {
  "kernelspec": {
   "display_name": "Python 3",
   "language": "python",
   "name": "python3"
  },
  "language_info": {
   "codemirror_mode": {
    "name": "ipython",
    "version": 3
   },
   "file_extension": ".py",
   "mimetype": "text/x-python",
   "name": "python",
   "nbconvert_exporter": "python",
   "pygments_lexer": "ipython3",
   "version": "3.5.2"
  }
 },
 "nbformat": 4,
 "nbformat_minor": 2
}
