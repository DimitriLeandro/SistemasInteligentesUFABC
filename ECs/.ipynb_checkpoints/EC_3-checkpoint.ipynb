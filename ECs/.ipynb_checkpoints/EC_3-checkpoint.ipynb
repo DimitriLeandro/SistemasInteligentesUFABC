{
 "cells": [
  {
   "cell_type": "markdown",
   "metadata": {},
   "source": [
    "# Sistemas Inteligentes\n",
    "\n",
    "## Exercício Computacional 3 - Redução de Dimensionalidade e Regressão"
   ]
  },
  {
   "cell_type": "markdown",
   "metadata": {},
   "source": [
    "### Identificação do Aluno"
   ]
  },
  {
   "cell_type": "markdown",
   "metadata": {},
   "source": [
    "#### Nome Completo"
   ]
  },
  {
   "cell_type": "markdown",
   "metadata": {},
   "source": [
    "Dimitri Leandro de Oliveira Silva"
   ]
  },
  {
   "cell_type": "markdown",
   "metadata": {},
   "source": [
    "## Desenvolvimento"
   ]
  },
  {
   "cell_type": "markdown",
   "metadata": {},
   "source": [
    "Fazendo as importações necessárias antes de começar o relatório:"
   ]
  },
  {
   "cell_type": "code",
   "execution_count": 1,
   "metadata": {},
   "outputs": [],
   "source": [
    "from sklearn.datasets import load_boston\n",
    "from sklearn.decomposition import PCA, FastICA\n",
    "from sklearn.manifold import TSNE\n",
    "from sklearn.linear_model import LinearRegression\n",
    "from sklearn.linear_model import LassoLars\n",
    "from sklearn.linear_model import RANSACRegressor\n",
    "from sklearn.model_selection import train_test_split as tts\n",
    "from sklearn.metrics import mean_squared_error as mse, r2_score as r2\n",
    "from numpy import average, amin, amax, std, histogram\n",
    "from math import sqrt\n",
    "from random import randint\n",
    "import matplotlib.pyplot as plt\n",
    "\n",
    "%matplotlib inline"
   ]
  },
  {
   "cell_type": "markdown",
   "metadata": {},
   "source": [
    "A base de dados escolhida foi a Boston House Prices que nos dá treze características de uma casa e seu preço em dólares.\n",
    "\n",
    "Abaixo, **dataset** recebe toda a base de dados; __x__ recebe um vetor bidimensional, com 506 linhas (casas) e treze colunas (features); e **y**, um vetor \"target\" com o respectivo preço de cada imóvel.\n",
    "\n",
    "http://scikit-learn.org/stable/modules/generated/sklearn.datasets.load_boston.html#sklearn.datasets.load_boston"
   ]
  },
  {
   "cell_type": "code",
   "execution_count": 9,
   "metadata": {},
   "outputs": [],
   "source": [
    "dataset = load_boston()\n",
    "x = dataset.data\n",
    "y = dataset.target"
   ]
  },
  {
   "cell_type": "markdown",
   "metadata": {},
   "source": [
    "Verificando se **x** e __y__ foram setados corretamente."
   ]
  },
  {
   "cell_type": "code",
   "execution_count": 10,
   "metadata": {},
   "outputs": [
    {
     "name": "stdout",
     "output_type": "stream",
     "text": [
      "(506, 13)\n",
      "(506,)\n"
     ]
    }
   ],
   "source": [
    "print(x.shape)\n",
    "print(y.shape)"
   ]
  },
  {
   "cell_type": "markdown",
   "metadata": {},
   "source": [
    "A fim de deixar o relatório mais intuitivo, a célula abaixo mostra quais são as features utilizadas no dataset, ou seja, quais são as características que o modelo de regressão levará em conta para predizer o valor de um novo imóvel.\n",
    "\n",
    "Taxa de crimes per capta, concentração de óxido nítrico na atmosfera e taxa de estudantes por professor são algumas das features presentes no dataset.\n",
    "\n",
    "Na documentação, o preço do imóvel é dado em quantidades inteiras de $1000. Logo, para saber o valor de um imóvel, deve-se multiplicar **y[imovel]** por mil.\n",
    "\n",
    "http://scikit-learn.org/stable/datasets/index.html#boston-dataset"
   ]
  },
  {
   "cell_type": "code",
   "execution_count": 149,
   "metadata": {},
   "outputs": [
    {
     "name": "stdout",
     "output_type": "stream",
     "text": [
      "Per capita crime rate by town:\t\t\t\t\t\t\t 0.13117\n",
      "Proportion of residential land zoned for lots over 25,000:\t\t\t 0.0\n",
      "Proportion of non-retail business acres per town:\t\t\t\t 8.56\n",
      "Charles River dummy variable (1 if tract bounds river; 0 otherwise):\t\t 0.0\n",
      "Nitric oxides concentration:\t\t\t\t\t\t\t 0.52\n",
      "Average number of rooms per dwelling:\t\t\t\t\t\t 6.127\n",
      "Proportion of owner-occupied units built prior to 1940:\t\t\t\t 85.2\n",
      "Weighted distances to five Boston employment centres:\t\t\t\t 2.1224\n",
      "Index of accessibility to radial highways:\t\t\t\t\t 5.0\n",
      "Full-value property-tax rate per $10,000:\t\t\t\t\t 384.0\n",
      "Student-teacher ratio by town:\t\t\t\t\t\t\t 20.9\n",
      "Blacks rate given by 1000*(Bk-0.63)^2 where Bk is the proportion of blacks:\t 387.69\n",
      "Percentage of lower status of the population:\t\t\t\t\t 14.09\n",
      "\n",
      "Evaluated Price (USD):\t\t\t\t\t\t\t\t 20400.0\n"
     ]
    }
   ],
   "source": [
    "imovelRand = randint(0, x.shape[0])\n",
    "\n",
    "print(\"Per capita crime rate by town:\\t\\t\\t\\t\\t\\t\\t\", x[imovelRand][0])\n",
    "print(\"Proportion of residential land zoned for lots over 25,000:\\t\\t\\t\", x[imovelRand][1])\n",
    "print(\"Proportion of non-retail business acres per town:\\t\\t\\t\\t\", x[imovelRand][2])\n",
    "print(\"Charles River dummy variable (1 if tract bounds river; 0 otherwise):\\t\\t\", x[imovelRand][3])\n",
    "print(\"Nitric oxides concentration:\\t\\t\\t\\t\\t\\t\\t\", x[imovelRand][4])\n",
    "print(\"Average number of rooms per dwelling:\\t\\t\\t\\t\\t\\t\", x[imovelRand][5])\n",
    "print(\"Proportion of owner-occupied units built prior to 1940:\\t\\t\\t\\t\", x[imovelRand][6])\n",
    "print(\"Weighted distances to five Boston employment centres:\\t\\t\\t\\t\", x[imovelRand][7])\n",
    "print(\"Index of accessibility to radial highways:\\t\\t\\t\\t\\t\", x[imovelRand][8])\n",
    "print(\"Full-value property-tax rate per $10,000:\\t\\t\\t\\t\\t\", x[imovelRand][9])\n",
    "print(\"Student-teacher ratio by town:\\t\\t\\t\\t\\t\\t\\t\", x[imovelRand][10])\n",
    "print(\"Blacks rate given by 1000*(Bk-0.63)^2 where Bk is the proportion of blacks:\\t\", x[imovelRand][11])\n",
    "print(\"Percentage of lower status of the population:\\t\\t\\t\\t\\t\", x[imovelRand][12])\n",
    "\n",
    "print(\"\\nEvaluated Price (USD):\\t\\t\\t\\t\\t\\t\\t\\t\", y[imovelRand]*1000)"
   ]
  },
  {
   "cell_type": "markdown",
   "metadata": {},
   "source": [
    "Como solicitado, serão utilizados três métodos para redução de dimensionalidade. Abaixo, **xPCA**, **xICA** e **xTSNE** recebem uma transformação de **x** para uma única dimensão."
   ]
  },
  {
   "cell_type": "code",
   "execution_count": 5,
   "metadata": {},
   "outputs": [],
   "source": [
    "xPCA = PCA(n_components = 1).fit_transform(x)\n",
    "xICA = FastICA(n_components = 1).fit_transform(x)\n",
    "xTSNE = TSNE(n_components = 1).fit_transform(x)"
   ]
  },
  {
   "cell_type": "code",
   "execution_count": 6,
   "metadata": {},
   "outputs": [
    {
     "name": "stdout",
     "output_type": "stream",
     "text": [
      "xPCA shape:  (506, 1)\n",
      "xICA shape:  (506, 1)\n",
      "xTSNE shape: (506, 1)\n"
     ]
    }
   ],
   "source": [
    "print(\"xPCA shape: \", xPCA.shape)\n",
    "print(\"xICA shape: \", xICA.shape)\n",
    "print(\"xTSNE shape:\", xTSNE.shape)"
   ]
  },
  {
   "cell_type": "markdown",
   "metadata": {},
   "source": [
    "### Plotando os modelos de regressão com cada método de redução de dimensionalidade"
   ]
  },
  {
   "cell_type": "markdown",
   "metadata": {},
   "source": [
    "Nesse relátorio serão utilizados três modelos de regressão: Ordinary Least Squares, LARS Lasso e Random Sample Consensus.\n",
    "\n",
    "Para plotar o gráfico de dispersão dos dados e da reta predita para cada modelo, utilizando cada um dos métodos de redução de dimensionalidade, será definida uma função (a mesma usada no Lab_3). Essa função recebe x, y e um modelo de regressão, separa os dados de treinamento e teste, treina o regressor e plota o gráfico."
   ]
  },
  {
   "cell_type": "code",
   "execution_count": 101,
   "metadata": {},
   "outputs": [],
   "source": [
    "def plotar(x, y, objRegressor, titulo, cor):\n",
    "    #separando os dados de treino e teste\n",
    "    xTrain, xTest, yTrain, yTest = tts(x, y, test_size=0.2)\n",
    "    \n",
    "    #treinando o regressor\n",
    "    objRegressor.fit(xTrain, yTrain)\n",
    "    \n",
    "    #predizendo os dados de teste\n",
    "    yPred = objRegressor.predict(xTest)\n",
    "    \n",
    "    #plotando a dispersão dos dados e a curva de regressao\n",
    "    plt.scatter(xTest, yTest, color='black')\n",
    "    plt.title(titulo)\n",
    "    plt.plot(xTest, yPred, color=cor, linewidth=4)\n",
    "    plt.show()\n",
    "    \n",
    "    coefDeter = r2(yTest, yPred)\n",
    "    MSError = mse(yTest, yPred)\n",
    "    \n",
    "    if coefDeter < 0:\n",
    "        coefDeter *= -1\n",
    "    \n",
    "    #printando MSE e R2\n",
    "    print(\"MSE \\t %.2f\" % MSError)\n",
    "    print(\"RMSE \\t %.2f\" % sqrt(MSError))\n",
    "    print(\"R2 \\t %.2f\\n\\n\\n\" % coefDeter)"
   ]
  },
  {
   "cell_type": "markdown",
   "metadata": {},
   "source": [
    "#### Ordinary Least Squares"
   ]
  },
  {
   "cell_type": "code",
   "execution_count": 103,
   "metadata": {},
   "outputs": [
    {
     "data": {
      "image/png": "[encoded data removed]",
      "text/plain": [
       "<Figure size 432x288 with 1 Axes>"
      ]
     },
     "metadata": {
      "needs_background": "light"
     },
     "output_type": "display_data"
    },
    {
     "name": "stdout",
     "output_type": "stream",
     "text": [
      "MSE \t 52.73\n",
      "RMSE \t 7.26\n",
      "R2 \t 0.34\n",
      "\n",
      "\n",
      "\n"
     ]
    },
    {
     "data": {
      "image/png": "[encoded data removed]",
      "text/plain": [
       "<Figure size 432x288 with 1 Axes>"
      ]
     },
     "metadata": {
      "needs_background": "light"
     },
     "output_type": "display_data"
    },
    {
     "name": "stdout",
     "output_type": "stream",
     "text": [
      "MSE \t 90.87\n",
      "RMSE \t 9.53\n",
      "R2 \t 0.18\n",
      "\n",
      "\n",
      "\n"
     ]
    },
    {
     "data": {
      "image/png": "[encoded data removed]",
      "text/plain": [
       "<Figure size 432x288 with 1 Axes>"
      ]
     },
     "metadata": {
      "needs_background": "light"
     },
     "output_type": "display_data"
    },
    {
     "name": "stdout",
     "output_type": "stream",
     "text": [
      "MSE \t 56.19\n",
      "RMSE \t 7.50\n",
      "R2 \t 0.16\n",
      "\n",
      "\n",
      "\n"
     ]
    }
   ],
   "source": [
    "# Criando o regressor\n",
    "objLS = LinearRegression()\n",
    "\n",
    "# PCA\n",
    "plotar(xPCA, y, objLS, 'Ordinary Least Squares e PCA', 'pink')\n",
    "\n",
    "# ICA\n",
    "plotar(xICA, y, objLS, 'Ordinary Least Squares e ICA', 'green')\n",
    "\n",
    "# TSNE\n",
    "plotar(xTSNE, y, objLS, 'Ordinary Least Squares e TSNE', 'red')"
   ]
  },
  {
   "cell_type": "markdown",
   "metadata": {},
   "source": [
    "#### LARS Lasso"
   ]
  },
  {
   "cell_type": "code",
   "execution_count": 104,
   "metadata": {},
   "outputs": [
    {
     "data": {
      "image/png": "[encoded data removed]",
      "text/plain": [
       "<Figure size 432x288 with 1 Axes>"
      ]
     },
     "metadata": {
      "needs_background": "light"
     },
     "output_type": "display_data"
    },
    {
     "name": "stdout",
     "output_type": "stream",
     "text": [
      "MSE \t 72.65\n",
      "RMSE \t 8.52\n",
      "R2 \t 0.00\n",
      "\n",
      "\n",
      "\n"
     ]
    },
    {
     "data": {
      "image/png": "[encoded data removed]",
      "text/plain": [
       "<Figure size 432x288 with 1 Axes>"
      ]
     },
     "metadata": {
      "needs_background": "light"
     },
     "output_type": "display_data"
    },
    {
     "name": "stdout",
     "output_type": "stream",
     "text": [
      "MSE \t 74.60\n",
      "RMSE \t 8.64\n",
      "R2 \t 0.01\n",
      "\n",
      "\n",
      "\n"
     ]
    },
    {
     "data": {
      "image/png": "[encoded data removed]",
      "text/plain": [
       "<Figure size 432x288 with 1 Axes>"
      ]
     },
     "metadata": {
      "needs_background": "light"
     },
     "output_type": "display_data"
    },
    {
     "name": "stdout",
     "output_type": "stream",
     "text": [
      "MSE \t 99.83\n",
      "RMSE \t 9.99\n",
      "R2 \t 0.02\n",
      "\n",
      "\n",
      "\n"
     ]
    }
   ],
   "source": [
    "# Criando o regressor\n",
    "objLL = LassoLars()\n",
    "\n",
    "# PCA\n",
    "plotar(xPCA, y, objLL, 'Lasso LARS e PCA', 'purple')\n",
    "\n",
    "# ICA\n",
    "plotar(xICA, y, objLL, 'Lasso LARS e ICA', 'brown')\n",
    "\n",
    "# TSNE\n",
    "plotar(xTSNE, y, objLL, 'Lasso LARS e TSNE', 'orange')"
   ]
  },
  {
   "cell_type": "markdown",
   "metadata": {},
   "source": [
    "#### Random Sample Consensus"
   ]
  },
  {
   "cell_type": "code",
   "execution_count": 106,
   "metadata": {},
   "outputs": [
    {
     "data": {
      "image/png": "[encoded data removed]",
      "text/plain": [
       "<Figure size 432x288 with 1 Axes>"
      ]
     },
     "metadata": {
      "needs_background": "light"
     },
     "output_type": "display_data"
    },
    {
     "name": "stdout",
     "output_type": "stream",
     "text": [
      "MSE \t 101.33\n",
      "RMSE \t 10.07\n",
      "R2 \t 0.04\n",
      "\n",
      "\n",
      "\n"
     ]
    },
    {
     "data": {
      "image/png": "[encoded data removed]",
      "text/plain": [
       "<Figure size 432x288 with 1 Axes>"
      ]
     },
     "metadata": {
      "needs_background": "light"
     },
     "output_type": "display_data"
    },
    {
     "name": "stdout",
     "output_type": "stream",
     "text": [
      "MSE \t 91.04\n",
      "RMSE \t 9.54\n",
      "R2 \t 0.11\n",
      "\n",
      "\n",
      "\n"
     ]
    },
    {
     "data": {
      "image/png": "[encoded data removed]",
      "text/plain": [
       "<Figure size 432x288 with 1 Axes>"
      ]
     },
     "metadata": {
      "needs_background": "light"
     },
     "output_type": "display_data"
    },
    {
     "name": "stdout",
     "output_type": "stream",
     "text": [
      "MSE \t 111.69\n",
      "RMSE \t 10.57\n",
      "R2 \t 0.16\n",
      "\n",
      "\n",
      "\n"
     ]
    }
   ],
   "source": [
    "# Criando o regressor\n",
    "objRANSAC = RANSACRegressor()\n",
    "\n",
    "# PCA\n",
    "plotar(xPCA, y, objRANSAC, 'Random Sample Consensus e PCA', 'yellow')\n",
    "\n",
    "# ICA\n",
    "plotar(xICA, y, objRANSAC, 'Random Sample Consensus e ICA', 'blue')\n",
    "\n",
    "# TSNE\n",
    "plotar(xTSNE, y, objRANSAC, 'Random Sample Consensus e TSNE', 'grey')"
   ]
  },
  {
   "cell_type": "markdown",
   "metadata": {},
   "source": [
    "### Plotando as curvas de regressão no mesmo gráfico para melhor visualização"
   ]
  },
  {
   "cell_type": "markdown",
   "metadata": {},
   "source": [
    "Abaixo, é definida a mesma função usada no Lab_3, usada para plotar as três curvas de regressão para um mesmo método de redução de dimensionalidade."
   ]
  },
  {
   "cell_type": "code",
   "execution_count": 107,
   "metadata": {},
   "outputs": [],
   "source": [
    "# Definindo a função que plota todos os modelos de regressão juntos usando um \n",
    "# determinado x gerado a partir de um método de redução de dimensionalidade\n",
    "\n",
    "def plotarTudoJunto(x, y, titulo):\n",
    "    #separando os dados de treino e teste\n",
    "    xTrain, xTest, yTrain, yTest = tts(x, y, test_size=0.2)\n",
    "    \n",
    "    #treinando os regressores\n",
    "    objLS      =  LinearRegression().fit(xTrain, yTrain)\n",
    "    objLL      =  LassoLars().fit(xTrain, yTrain)\n",
    "    objRANSAC  =  RANSACRegressor().fit(xTrain, yTrain)\n",
    "    \n",
    "    #predizendo os dados de teste\n",
    "    yPredLS     = objLS.predict(xTest)\n",
    "    yPredLL     = objLL.predict(xTest)\n",
    "    yPredRANSAC = objRANSAC.predict(xTest)\n",
    "    \n",
    "    #plotando a dispersão dos dados e a curva de regressao\n",
    "    plt.scatter(xTest, yTest, color='black', s=3)\n",
    "    plt.plot(xTest, yPredLS, color='#FF0000', linewidth=2, label='Linear Regression')\n",
    "    plt.plot(xTest, yPredLL, color='#00FF00', linewidth=2, label='Lasso LARS')\n",
    "    plt.plot(xTest, yPredRANSAC, color='#0000FF', linewidth=2, label='RANSAC')\n",
    "    plt.legend()\n",
    "    plt.title('Dispersão dos dados usando ' + titulo)\n",
    "    plt.show()"
   ]
  },
  {
   "cell_type": "code",
   "execution_count": 108,
   "metadata": {},
   "outputs": [
    {
     "data": {
      "image/png": "[encoded data removed]",
      "text/plain": [
       "<Figure size 432x288 with 1 Axes>"
      ]
     },
     "metadata": {
      "needs_background": "light"
     },
     "output_type": "display_data"
    },
    {
     "data": {
      "image/png": "[encoded data removed]",
      "text/plain": [
       "<Figure size 432x288 with 1 Axes>"
      ]
     },
     "metadata": {
      "needs_background": "light"
     },
     "output_type": "display_data"
    },
    {
     "data": {
      "image/png": "[encoded data removed]",
      "text/plain": [
       "<Figure size 432x288 with 1 Axes>"
      ]
     },
     "metadata": {
      "needs_background": "light"
     },
     "output_type": "display_data"
    }
   ],
   "source": [
    "# Plotando\n",
    "plotarTudoJunto(xPCA, y, 'PCA')\n",
    "plotarTudoJunto(xICA, y, 'ICA')\n",
    "plotarTudoJunto(xTSNE, y, 'TSNE')"
   ]
  },
  {
   "cell_type": "markdown",
   "metadata": {},
   "source": [
    "### Conclusões"
   ]
  },
  {
   "cell_type": "markdown",
   "metadata": {},
   "source": [
    "Antes de discutir os resultados obtidos com os três regressores, é preciso falar sobre as métricas utilizadas para aviliá-los.\n",
    "\n",
    "Mean Squared Error: calcula a média dos erros de cada predição e a eleva ao quadrado. Dessa forma, os erros são sempre valores positivos. Essa métrica não é a mais intuitiva para interpretar o quanto a regressão errou. Entretanto, ao calcular a raíz quadrada do MSE, a unidade de medida volta a ser a original, não mais elevada ao quadrado, e aí sim, obtém-se uma métrica intuitiva chamada de Root Mean Squared Error.\n",
    "\n",
    "Root Mean Squared Error: é a raíz quadrada do MSE e pode ser interpretada como o erro médio do regressor nas unidades originais.\n",
    "\n",
    "Coefficient of Determination (R²): é um valor que varia entre 0 e 1, indicando o percentual do quanto o modelo regressor consegue explicar os dados de entrada do problema. Dentre as métricas abordadas, essa se mostra a mais objetiva para avaliar um regressor.\n",
    "\n",
    "https://machinelearningmastery.com/metrics-evaluate-machine-learning-algorithms-python/\n",
    "https://en.wikipedia.org/wiki/Mean_squared_error\n",
    "https://en.wikipedia.org/wiki/Coefficient_of_determination"
   ]
  },
  {
   "cell_type": "markdown",
   "metadata": {},
   "source": [
    "A célula abaixo contém os resultados obtidos para que se possa analisar os regressores com cada tipo de método de redução de dimensionalidade."
   ]
  },
  {
   "cell_type": "markdown",
   "metadata": {},
   "source": [
    "##### Ordinary Least Squares e PCA\n",
    "\n",
    "MSE 52.73\n",
    "\n",
    "RMSE \t 7.26\n",
    "\n",
    "R2 \t 0.34\n",
    "\n",
    "<br>\n",
    "\n",
    "##### Ordinary Least Squares e ICA\n",
    "\n",
    "MSE \t 90.87\n",
    "\n",
    "RMSE \t 9.53\n",
    "\n",
    "R2 \t 0.18\n",
    "\n",
    "<br>\n",
    "\n",
    "##### Ordinary Least Squares e TSNE\n",
    "\n",
    "MSE \t 56.19\n",
    "\n",
    "RMSE \t 7.50\n",
    "\n",
    "R2 \t 0.16\n",
    "\n",
    "<br>\n",
    "\n",
    "##### Lasso LARS e PCA\n",
    "\n",
    "MSE \t 72.65\n",
    "\n",
    "RMSE \t 8.52\n",
    "\n",
    "R2 \t 0.00\n",
    "\n",
    "<br>\n",
    "\n",
    "##### Lasso LARS e ICA\n",
    "\n",
    "MSE \t 74.60\n",
    "\n",
    "RMSE \t 8.64\n",
    "\n",
    "R2 \t 0.01\n",
    "\n",
    "<br>\n",
    "\n",
    "##### Lasso LARS e TSNE\n",
    "\n",
    "MSE \t 99.83\n",
    "\n",
    "RMSE \t 9.99\n",
    "\n",
    "R2 \t 0.02\n",
    "\n",
    "<br>\n",
    "\n",
    "##### Random Sample Consensus e PCA\n",
    "\n",
    "MSE \t 101.33\n",
    "\n",
    "RMSE \t 10.07\n",
    "\n",
    "R2 \t 0.04\n",
    "\n",
    "<br>\n",
    "\n",
    "##### Random Sample Consensus e ICA\n",
    "\n",
    "MSE \t 91.04\n",
    "\n",
    "RMSE \t 9.54\n",
    "\n",
    "R2 \t 0.11\n",
    "\n",
    "<br>\n",
    "\n",
    "##### Random Sample Consensus e TSNE\n",
    "\n",
    "MSE \t 111.69\n",
    "\n",
    "RMSE \t 10.57\n",
    "\n",
    "R2 \t 0.16"
   ]
  },
  {
   "cell_type": "markdown",
   "metadata": {},
   "source": [
    "Como é possível observar, todos os regressores obtiverem um desempenho péssimo. No caso com Lasso LARS e PCA, o valor do coeficiente de determinação ficou em 0%. Já no caso com Random Sample Consensus e TSNE, a raíz do erro quadrático médio chegou a 10,57. Lembrando que o preço dos imóveis estava definido em partes inteiras de 1000 dólares, isso significa dizer que, nesse caso, o regressor errou, em média, 10570 dólares no preço das casas.\n",
    "\n",
    "A fim de tentar melhorar o desempenho do regressor, sugere-se fazer uma avaliação com todas as possíveis dimensionalidades, isto é, algum dos métodos de redução de dimensionalidade será escolhido para, assim, avaliar o desempenho do método Ordinary Least Squares de uma até treze dimensões.\n",
    "\n",
    "Abaixo, para cada **n** dimensões, o método Ordinary Least Squares utilizando o PCA como método de redução de dimensionalidade será testado mil vezes."
   ]
  },
  {
   "cell_type": "code",
   "execution_count": 137,
   "metadata": {},
   "outputs": [],
   "source": [
    "# definindo a função que vai fazer as 1000 iterações e devolver os vetores vetorMSE, vetorRMSE, vetorR2\n",
    "\n",
    "def regressaoLinear(x, y, qtdIteracoes=1000, tamanhoTeste=0.2):\n",
    "    \n",
    "    vetorMSE = []\n",
    "    vetorRMSE = []\n",
    "    vetorR2 = []\n",
    "    objLR = LinearRegression()\n",
    "    \n",
    "    for iteracao in range(0, qtdIteracoes):\n",
    "        xTrain, xTest, yTrain, yTest = tts(x, y, test_size=tamanhoTeste)\n",
    "        \n",
    "        objLR.fit(xTrain, yTrain)\n",
    "        \n",
    "        yPred = objLR.predict(xTest)\n",
    "        \n",
    "        coefDeter = r2(yTest, yPred)\n",
    "        MSError = mse(yTest, yPred)\n",
    "\n",
    "        if coefDeter < 0:\n",
    "            coefDeter *= -1\n",
    "        \n",
    "        vetorMSE.append(MSError)\n",
    "        vetorRMSE.append(sqrt(MSError))\n",
    "        vetorR2.append(coefDeter)\n",
    "    \n",
    "    return vetorMSE, vetorRMSE, vetorR2"
   ]
  },
  {
   "cell_type": "code",
   "execution_count": 133,
   "metadata": {},
   "outputs": [],
   "source": [
    "# Definindo a função que vai printar a média de cada métrica.\n",
    "# Também seria possível colocar mín, máx e desvio padrão, mas na hora da exibição ficaria muito poluído.\n",
    "# Como a intenção é só ver se as métricas melhoram conforme o número de dimensões aumenta, \n",
    "# só a média já é suficiente\n",
    "\n",
    "def printarMediaMetricas(vetorMSE, vetorSQRT, vetorR2):\n",
    "    print(\"MSE médio:\\t\", average(vetorMSE))\n",
    "    print(\"RMSE médio:\\t\", average(vetorSQRT))\n",
    "    print(\"R² médio:\\t\", average(vetorR2))"
   ]
  },
  {
   "cell_type": "code",
   "execution_count": 135,
   "metadata": {
    "scrolled": false
   },
   "outputs": [
    {
     "name": "stdout",
     "output_type": "stream",
     "text": [
      "TESTANDO MIL VEZES USANDO 1 DIMENSÕES: \n",
      "MSE médio:\t 65.6458545302671\n",
      "RMSE médio:\t 8.059830542445622\n",
      "R² médio:\t 0.2255647157049802\n",
      "\n",
      "\n",
      "TESTANDO MIL VEZES USANDO 2 DIMENSÕES: \n",
      "MSE médio:\t 64.43447066695138\n",
      "RMSE médio:\t 7.981483068011817\n",
      "R² médio:\t 0.22912232569215815\n",
      "\n",
      "\n",
      "TESTANDO MIL VEZES USANDO 3 DIMENSÕES: \n",
      "MSE médio:\t 60.06911184310728\n",
      "RMSE médio:\t 7.698965396473104\n",
      "R² médio:\t 0.27892203002626786\n",
      "\n",
      "\n",
      "TESTANDO MIL VEZES USANDO 4 DIMENSÕES: \n",
      "MSE médio:\t 60.26615922519188\n",
      "RMSE médio:\t 7.717036377162131\n",
      "R² médio:\t 0.27568505455421405\n",
      "\n",
      "\n",
      "TESTANDO MIL VEZES USANDO 5 DIMENSÕES: \n",
      "MSE médio:\t 58.05812916262654\n",
      "RMSE médio:\t 7.575946629287233\n",
      "R² médio:\t 0.3059082939105043\n",
      "\n",
      "\n",
      "TESTANDO MIL VEZES USANDO 6 DIMENSÕES: \n",
      "MSE médio:\t 36.95629190016565\n",
      "RMSE médio:\t 6.048963414482236\n",
      "R² médio:\t 0.5550927049837232\n",
      "\n",
      "\n",
      "TESTANDO MIL VEZES USANDO 7 DIMENSÕES: \n",
      "MSE médio:\t 36.54529889873354\n",
      "RMSE médio:\t 6.018027938707595\n",
      "R² médio:\t 0.5600735257277925\n",
      "\n",
      "\n",
      "TESTANDO MIL VEZES USANDO 8 DIMENSÕES: \n",
      "MSE médio:\t 35.43242924706124\n",
      "RMSE médio:\t 5.924806534790106\n",
      "R² médio:\t 0.5747427987792169\n",
      "\n",
      "\n",
      "TESTANDO MIL VEZES USANDO 9 DIMENSÕES: \n",
      "MSE médio:\t 30.175863475309075\n",
      "RMSE médio:\t 5.46624135163305\n",
      "R² médio:\t 0.6391153606680436\n",
      "\n",
      "\n",
      "TESTANDO MIL VEZES USANDO 10 DIMENSÕES: \n",
      "MSE médio:\t 28.59158384838506\n",
      "RMSE médio:\t 5.320995233320738\n",
      "R² médio:\t 0.6572930910193973\n",
      "\n",
      "\n",
      "TESTANDO MIL VEZES USANDO 11 DIMENSÕES: \n",
      "MSE médio:\t 25.546024172402117\n",
      "RMSE médio:\t 5.00993214375101\n",
      "R² médio:\t 0.6983309579963813\n",
      "\n",
      "\n",
      "TESTANDO MIL VEZES USANDO 12 DIMENSÕES: \n",
      "MSE médio:\t 25.1921971302683\n",
      "RMSE médio:\t 4.979903926197576\n",
      "R² médio:\t 0.696376191090703\n",
      "\n",
      "\n",
      "TESTANDO MIL VEZES USANDO 13 DIMENSÕES: \n",
      "MSE médio:\t 23.785960153702444\n",
      "RMSE médio:\t 4.843411633354246\n",
      "R² médio:\t 0.7121584275934634\n",
      "\n",
      "\n"
     ]
    }
   ],
   "source": [
    "# Fazendo o método iterativo com cada n dimensões\n",
    "\n",
    "for qtdDimensoes in range(1, 14):\n",
    "    xPCA = PCA(n_components = qtdDimensoes).fit_transform(x)\n",
    "    vetorMSE, vetorRMSE, vetorR2 = regressaoLinear(xPCA, y)\n",
    "    print(\"TESTANDO MIL VEZES USANDO\", qtdDimensoes, \"DIMENSÕES: \")\n",
    "    printarMediaMetricas(vetorMSE, vetorRMSE, vetorR2)\n",
    "    print(\"\\n\")"
   ]
  },
  {
   "cell_type": "markdown",
   "metadata": {},
   "source": [
    "Como é possível observar, o modelo melhorou muito conforme o número de dimensões aumentava.\n",
    "\n",
    "Com apenas uma dimensão, o regressor obteve uma média de 8,057 na métrica RMSE e um coeficiente de determinação de 0,22. Isso significa dizer que o regressor errou o preço das casas em média 8057 dólares, e que apenas 22% dos dados podem ser explicados pelo modelo gerado.\n",
    "\n",
    "Já com as treze dimensões originais, a média de erro no preço diminuiu quase pela metade, chegando em 4852 dólares. Além disso, pode-se afirmar que o modelo se adequa em média a 71% dos dados."
   ]
  },
  {
   "cell_type": "markdown",
   "metadata": {},
   "source": [
    "### Referências:\n",
    "\n",
    "http://scikit-learn.org/stable/modules/generated/sklearn.datasets.load_boston.html#sklearn.datasets.load_boston\n",
    "\n",
    "http://scikit-learn.org/stable/datasets/index.html#boston-dataset\n",
    "\n",
    "http://scikit-learn.org/stable/modules/linear_model.html\n",
    "\n",
    "http://scikit-learn.org/stable/auto_examples/linear_model/plot_ransac.html#sphx-glr-auto-examples-linear-model-plot-ransac-py\n",
    "\n",
    "https://machinelearningmastery.com/metrics-evaluate-machine-learning-algorithms-python/\n",
    "\n",
    "https://pt.wikipedia.org/wiki/R%C2%B2"
   ]
  }
 ],
 "metadata": {
  "kernelspec": {
   "display_name": "Python 3",
   "language": "python",
   "name": "python3"
  },
  "language_info": {
   "codemirror_mode": {
    "name": "ipython",
    "version": 3
   },
   "file_extension": ".py",
   "mimetype": "text/x-python",
   "name": "python",
   "nbconvert_exporter": "python",
   "pygments_lexer": "ipython3",
   "version": "3.5.2"
  }
 },
 "nbformat": 4,
 "nbformat_minor": 2
}
