{
 "cells": [
  {
   "cell_type": "markdown",
   "metadata": {},
   "source": [
    "# Sistemas Inteligentes\n",
    "\n",
    "## Exercício Computacional 1 - Classificação\n",
    "\n",
    "Neste laboratório serão explorados os classificadores **KNN** e **Decision Tree**. Também vamos explorar a métrica de **Acurácia** e conhecer a **Confusion Matrix**."
   ]
  },
  {
   "cell_type": "markdown",
   "metadata": {},
   "source": [
    "### Identificação do Aluno"
   ]
  },
  {
   "cell_type": "markdown",
   "metadata": {},
   "source": [
    "#### Nome Completo"
   ]
  },
  {
   "cell_type": "markdown",
   "metadata": {},
   "source": [
    "Dimitri Leandro de Oliveira Silva"
   ]
  },
  {
   "cell_type": "markdown",
   "metadata": {},
   "source": [
    "#### RA"
   ]
  },
  {
   "cell_type": "markdown",
   "metadata": {},
   "source": [
    "11201720576"
   ]
  },
  {
   "cell_type": "markdown",
   "metadata": {},
   "source": [
    "### Importação e preparação dos dados"
   ]
  },
  {
   "cell_type": "markdown",
   "metadata": {},
   "source": [
    "Importe o pacote **datasets** da biblioteca **sklearn**, então carregue o dataset de imagens de dígitos, utilizando a função **load_digits()** do pacote de datasets importado, já atribuindo-o à variável **digits_dataset**."
   ]
  },
  {
   "cell_type": "code",
   "execution_count": 1,
   "metadata": {},
   "outputs": [],
   "source": [
    "from sklearn import datasets\n",
    "\n",
    "digits_dataset = datasets.load_digits()"
   ]
  },
  {
   "cell_type": "markdown",
   "metadata": {},
   "source": [
    "Tendo feito o processo adequadamente, a variável **digits_dataset** conterá todo o dataset correspondente, inclusive com informações que não são de nosso interesse para esta atividade. Para selecionar apenas o que é de nosso interesse, atribua à variável **digits_img** apenas o objeto **images** de **digits_dataset**."
   ]
  },
  {
   "cell_type": "code",
   "execution_count": 2,
   "metadata": {},
   "outputs": [],
   "source": [
    "digits_img = digits_dataset.images"
   ]
  },
  {
   "cell_type": "markdown",
   "metadata": {},
   "source": [
    "Verifique o formato de **digits_img**."
   ]
  },
  {
   "cell_type": "code",
   "execution_count": 3,
   "metadata": {},
   "outputs": [
    {
     "name": "stdout",
     "output_type": "stream",
     "text": [
      "(1797, 8, 8)\n"
     ]
    }
   ],
   "source": [
    "print(digits_img.shape) #1797 imagens de 8x8 pixels cada"
   ]
  },
  {
   "cell_type": "markdown",
   "metadata": {},
   "source": [
    "Imprima **digits_img** para que seja possível ver como são os dados que temos no momento."
   ]
  },
  {
   "cell_type": "code",
   "execution_count": 63,
   "metadata": {},
   "outputs": [
    {
     "name": "stdout",
     "output_type": "stream",
     "text": [
      "[[ 0.  0.  5. ...  0.  0.  0.]\n",
      " [ 0.  0.  0. ... 10.  0.  0.]\n",
      " [ 0.  0.  0. ... 16.  9.  0.]\n",
      " ...\n",
      " [ 0.  0.  1. ...  6.  0.  0.]\n",
      " [ 0.  0.  2. ... 12.  0.  0.]\n",
      " [ 0.  0. 10. ... 12.  1.  0.]]\n"
     ]
    }
   ],
   "source": [
    "print(digits_img)"
   ]
  },
  {
   "cell_type": "markdown",
   "metadata": {},
   "source": [
    "Sabendo que esta estrutura se refere a um conjunto de imagens, pode ser interessante imprimir ao menos uma ou duas para visualizarmos como é o seu padrão.\n",
    "\n",
    "Para fazer isso, importe o pacote de funções **pyplot** da biblioteca **matplotlib**. Apesar de não ser obrigatório, para facilitar, recomenda-se utilizar um \"apelido\" para esse tipo de pacote com nome tão grande, a fim de tornar o seu uso mais prático. É comum utilizar o termo \"plt\" para o pyplot, mas você pode chamar como preferir."
   ]
  },
  {
   "cell_type": "code",
   "execution_count": 5,
   "metadata": {},
   "outputs": [],
   "source": [
    "from matplotlib import pyplot as plt"
   ]
  },
  {
   "cell_type": "markdown",
   "metadata": {},
   "source": [
    "Depois de importar o pacote, utilize a função **imshow()** do **pyplot** para imprimir na tela uma das imagens contidas em **digits_img**.\n",
    "\n",
    "Obs: caso tenha sido utilizado um apelido na importação do pacote, lembre-se dele quando for chamar suas funções, como é o caso agora."
   ]
  },
  {
   "cell_type": "code",
   "execution_count": 6,
   "metadata": {},
   "outputs": [
    {
     "data": {
      "text/plain": [
       "<matplotlib.image.AxesImage at 0x7f7700428080>"
      ]
     },
     "execution_count": 6,
     "metadata": {},
     "output_type": "execute_result"
    },
    {
     "data": {
      "image/png": "[encoded data removed]",
      "text/plain": [
       "<Figure size 432x288 with 1 Axes>"
      ]
     },
     "metadata": {},
     "output_type": "display_data"
    }
   ],
   "source": [
    "plt.imshow(digits_img[0])"
   ]
  },
  {
   "cell_type": "code",
   "execution_count": 7,
   "metadata": {},
   "outputs": [
    {
     "data": {
      "text/plain": [
       "<matplotlib.image.AxesImage at 0x7f77003b5470>"
      ]
     },
     "execution_count": 7,
     "metadata": {},
     "output_type": "execute_result"
    },
    {
     "data": {
      "image/png": "[encoded data removed]",
      "text/plain": [
       "<Figure size 432x288 with 1 Axes>"
      ]
     },
     "metadata": {},
     "output_type": "display_data"
    }
   ],
   "source": [
    "plt.imshow(digits_img[1])"
   ]
  },
  {
   "cell_type": "code",
   "execution_count": 8,
   "metadata": {},
   "outputs": [
    {
     "data": {
      "text/plain": [
       "<matplotlib.image.AxesImage at 0x7f77003937b8>"
      ]
     },
     "execution_count": 8,
     "metadata": {},
     "output_type": "execute_result"
    },
    {
     "data": {
      "image/png": "[encoded data removed]",
      "text/plain": [
       "<Figure size 432x288 with 1 Axes>"
      ]
     },
     "metadata": {},
     "output_type": "display_data"
    }
   ],
   "source": [
    "plt.imshow(digits_img[2])"
   ]
  },
  {
   "cell_type": "markdown",
   "metadata": {},
   "source": [
    "Apesar de esse tipo de formato permitir que essas imagens sejam elegantemente exibidas a nós, humanos, não se trata de um formato tão interessante para se efetuar processamentos computacionais. Por isso, faça uma mudança no formato da estrutura utilizando a função **reshape()** da biblioteca **numpy**. Como tal biblioteca ainda não for importada, comece por sua importação, preferencialmente utilizando o apelido \"np\" para tornar mais prática a sua utilização."
   ]
  },
  {
   "cell_type": "code",
   "execution_count": 9,
   "metadata": {},
   "outputs": [],
   "source": [
    "import numpy as np"
   ]
  },
  {
   "cell_type": "markdown",
   "metadata": {},
   "source": [
    "Agora, com a biblioteca já importada, utilize a função **reshape()** para forçar um formato unidimensional para cada imagem dentro da matriz original.\n",
    "\n",
    "Note que o número de imagens não pode ser alterado, tampouco as imagens em si; apenas o formato da representação de cada uma dessas imagens pode sofrer alteração."
   ]
  },
  {
   "cell_type": "code",
   "execution_count": 10,
   "metadata": {},
   "outputs": [],
   "source": [
    "digits_img = digits_img.reshape(digits_img.shape[0], digits_img.shape[1] * digits_img.shape[2])"
   ]
  },
  {
   "cell_type": "markdown",
   "metadata": {},
   "source": [
    "Agora verifique se o novo formato está como desejava-se obter. Se o novo formato for bidimensional, o número de imagens for o mesmo que o original e o número de pixels for o mesmo que o original, então está correto."
   ]
  },
  {
   "cell_type": "code",
   "execution_count": 11,
   "metadata": {},
   "outputs": [
    {
     "name": "stdout",
     "output_type": "stream",
     "text": [
      "(1797, 64)\n"
     ]
    }
   ],
   "source": [
    "print(digits_img.shape)"
   ]
  },
  {
   "cell_type": "markdown",
   "metadata": {},
   "source": [
    "Agora que já temos os dados de entrada adequadamente preparados, precisamos dos dados de saída correspondentes. Então, atribua o objeto **target** de **digits_dataset** à variável **digits_target**."
   ]
  },
  {
   "cell_type": "code",
   "execution_count": 12,
   "metadata": {},
   "outputs": [],
   "source": [
    "digits_target = digits_dataset.target"
   ]
  },
  {
   "cell_type": "markdown",
   "metadata": {},
   "source": [
    "Imprima **digits_target** para visualizar como são esses dados"
   ]
  },
  {
   "cell_type": "code",
   "execution_count": 13,
   "metadata": {},
   "outputs": [
    {
     "name": "stdout",
     "output_type": "stream",
     "text": [
      "[0 1 2 ... 8 9 8]\n"
     ]
    }
   ],
   "source": [
    "print(digits_target)"
   ]
  },
  {
   "cell_type": "markdown",
   "metadata": {},
   "source": [
    "Agora imprima o formato de **digits_target** para saber exatamente as suas dimensões."
   ]
  },
  {
   "cell_type": "code",
   "execution_count": 14,
   "metadata": {},
   "outputs": [
    {
     "name": "stdout",
     "output_type": "stream",
     "text": [
      "(1797,)\n"
     ]
    }
   ],
   "source": [
    "print(digits_target.shape)"
   ]
  },
  {
   "cell_type": "markdown",
   "metadata": {},
   "source": [
    "#### Divisão dos dados em grupos para treinamento e teste."
   ]
  },
  {
   "cell_type": "markdown",
   "metadata": {},
   "source": [
    "Importe a função **train_test_split()** do pacote **model_selection**, pertencente à biblioteca **sklearn**."
   ]
  },
  {
   "cell_type": "code",
   "execution_count": 15,
   "metadata": {},
   "outputs": [],
   "source": [
    "from sklearn.model_selection import train_test_split"
   ]
  },
  {
   "cell_type": "markdown",
   "metadata": {},
   "source": [
    "Agora, utilizando a função **train_test_split()**, divida os dados de entrada e saída, **digits** e **digits_target**, respectivamente, separando-os em dados de treinamento e de testes para entrada e saída, ou seja, **x_train**, **x_test**, **y_train** e **y_test**.\n",
    "\n",
    "Separe 25% para testes utilizando o argumento *test_size* da própria função **train_test_split()**."
   ]
  },
  {
   "cell_type": "code",
   "execution_count": 16,
   "metadata": {},
   "outputs": [],
   "source": [
    "x_train, x_test, y_train, y_test = train_test_split(digits_img, digits_target, test_size=0.25, random_state=100)"
   ]
  },
  {
   "cell_type": "markdown",
   "metadata": {},
   "source": [
    "Imprima, em diferentes células, o formato de cada uma das partes obtidas."
   ]
  },
  {
   "cell_type": "code",
   "execution_count": 17,
   "metadata": {},
   "outputs": [
    {
     "data": {
      "text/plain": [
       "array([[ 0.,  0.,  6., ..., 15., 16., 16.],\n",
       "       [ 0.,  0.,  5., ..., 14.,  5.,  0.],\n",
       "       [ 0.,  0.,  0., ..., 11.,  0.,  0.],\n",
       "       ...,\n",
       "       [ 0.,  0.,  4., ...,  8.,  0.,  0.],\n",
       "       [ 0.,  0.,  7., ...,  3.,  0.,  0.],\n",
       "       [ 0.,  0.,  1., ...,  3.,  0.,  0.]])"
      ]
     },
     "execution_count": 17,
     "metadata": {},
     "output_type": "execute_result"
    }
   ],
   "source": [
    "x_train"
   ]
  },
  {
   "cell_type": "code",
   "execution_count": 18,
   "metadata": {},
   "outputs": [
    {
     "data": {
      "text/plain": [
       "array([[ 0.,  0.,  2., ..., 12.,  0.,  0.],\n",
       "       [ 0.,  0.,  2., ..., 14., 13.,  2.],\n",
       "       [ 0.,  0., 10., ..., 10.,  0.,  0.],\n",
       "       ...,\n",
       "       [ 0.,  0.,  0., ...,  6.,  0.,  0.],\n",
       "       [ 0.,  0.,  3., ...,  8.,  1.,  0.],\n",
       "       [ 0.,  0.,  0., ...,  0.,  0.,  0.]])"
      ]
     },
     "execution_count": 18,
     "metadata": {},
     "output_type": "execute_result"
    }
   ],
   "source": [
    "x_test"
   ]
  },
  {
   "cell_type": "code",
   "execution_count": 19,
   "metadata": {},
   "outputs": [
    {
     "data": {
      "text/plain": [
       "array([2, 6, 1, ..., 0, 6, 8])"
      ]
     },
     "execution_count": 19,
     "metadata": {},
     "output_type": "execute_result"
    }
   ],
   "source": [
    "y_train"
   ]
  },
  {
   "cell_type": "code",
   "execution_count": 20,
   "metadata": {},
   "outputs": [
    {
     "data": {
      "text/plain": [
       "array([9, 9, 0, 2, 4, 5, 7, 4, 7, 2, 4, 5, 7, 5, 9, 6, 1, 1, 5, 2, 8, 7,\n",
       "       6, 6, 6, 7, 0, 2, 8, 3, 0, 9, 3, 9, 5, 5, 3, 6, 3, 6, 1, 1, 5, 2,\n",
       "       0, 4, 8, 3, 7, 4, 1, 5, 5, 1, 4, 8, 8, 7, 3, 9, 6, 3, 5, 4, 2, 6,\n",
       "       3, 6, 6, 6, 8, 4, 6, 0, 6, 6, 2, 1, 6, 3, 1, 3, 3, 1, 1, 4, 0, 5,\n",
       "       5, 4, 1, 7, 0, 0, 8, 7, 4, 2, 7, 5, 4, 0, 9, 3, 4, 5, 7, 2, 5, 5,\n",
       "       5, 2, 1, 3, 2, 0, 1, 4, 7, 3, 2, 1, 9, 6, 0, 7, 0, 7, 5, 0, 7, 6,\n",
       "       0, 2, 8, 2, 0, 7, 6, 3, 4, 5, 0, 3, 9, 0, 8, 0, 3, 6, 8, 1, 4, 1,\n",
       "       8, 9, 0, 0, 6, 2, 2, 7, 5, 9, 2, 4, 1, 5, 3, 4, 2, 0, 6, 9, 3, 1,\n",
       "       0, 0, 7, 4, 4, 4, 3, 9, 5, 3, 4, 9, 2, 8, 2, 4, 4, 7, 2, 7, 1, 0,\n",
       "       8, 3, 8, 6, 9, 9, 0, 3, 1, 5, 3, 8, 0, 6, 8, 6, 2, 9, 9, 2, 6, 2,\n",
       "       1, 4, 4, 2, 8, 0, 7, 2, 7, 2, 6, 4, 0, 9, 0, 5, 0, 3, 3, 9, 0, 2,\n",
       "       7, 0, 1, 2, 2, 7, 3, 2, 0, 2, 2, 5, 1, 2, 6, 7, 0, 5, 9, 3, 5, 2,\n",
       "       2, 6, 4, 7, 9, 4, 0, 9, 0, 8, 7, 0, 9, 1, 0, 7, 1, 6, 0, 5, 9, 9,\n",
       "       6, 8, 7, 4, 2, 7, 1, 0, 6, 1, 9, 6, 1, 8, 7, 9, 9, 7, 9, 2, 1, 5,\n",
       "       2, 5, 9, 6, 1, 2, 9, 0, 7, 3, 0, 7, 8, 4, 5, 8, 4, 7, 8, 4, 5, 6,\n",
       "       6, 9, 5, 4, 5, 8, 6, 1, 7, 3, 9, 7, 8, 1, 7, 8, 4, 9, 2, 5, 8, 6,\n",
       "       6, 3, 6, 4, 9, 6, 7, 3, 9, 4, 4, 1, 6, 2, 2, 8, 8, 3, 5, 8, 4, 1,\n",
       "       6, 4, 8, 9, 7, 4, 5, 8, 5, 4, 1, 3, 2, 9, 7, 3, 4, 9, 3, 5, 3, 4,\n",
       "       2, 9, 1, 8, 8, 5, 1, 8, 0, 8, 8, 4, 6, 2, 5, 4, 4, 9, 2, 4, 9, 2,\n",
       "       2, 0, 7, 7, 7, 2, 4, 0, 8, 3, 8, 0, 5, 9, 8, 4, 0, 6, 6, 0, 8, 4,\n",
       "       2, 5, 0, 3, 6, 6, 4, 4, 9, 4])"
      ]
     },
     "execution_count": 20,
     "metadata": {},
     "output_type": "execute_result"
    }
   ],
   "source": [
    "y_test"
   ]
  },
  {
   "cell_type": "markdown",
   "metadata": {},
   "source": [
    "### K-Nearest Neighbors (KNN)"
   ]
  },
  {
   "cell_type": "markdown",
   "metadata": {},
   "source": [
    "#### Treinamento"
   ]
  },
  {
   "cell_type": "markdown",
   "metadata": {},
   "source": [
    "Importe o classificador do KNN, que é uma função chamada **KNeighborsClassifier** do pacote **neighbors**, que faz parte da biblioteca **sklearn**."
   ]
  },
  {
   "cell_type": "code",
   "execution_count": 21,
   "metadata": {},
   "outputs": [],
   "source": [
    "from sklearn.neighbors import KNeighborsClassifier"
   ]
  },
  {
   "cell_type": "markdown",
   "metadata": {},
   "source": [
    "Agora crie o classificador com o nome **knn** utilizando para o argumento *n_neighbors* da função **KNeighborsClassifier** o número de vizinhos próximos que serão considerados pelo algoritmo. Lembre-se de preferir um número ímpar não muito grande."
   ]
  },
  {
   "cell_type": "code",
   "execution_count": 22,
   "metadata": {},
   "outputs": [],
   "source": [
    "knn1 = KNeighborsClassifier(1)\n",
    "knn5 = KNeighborsClassifier(5)\n",
    "knn9 = KNeighborsClassifier(9)"
   ]
  },
  {
   "cell_type": "markdown",
   "metadata": {},
   "source": [
    "Treine o classificador **knn** por meio de sua própria função **fit()**, atribuindo o resultado ao próprio **knn**. Os argumentos da função **fit()** são os dados de entrada e saída de treinamento, ou seja, **x_train** e **y_train**."
   ]
  },
  {
   "cell_type": "code",
   "execution_count": 23,
   "metadata": {},
   "outputs": [],
   "source": [
    "knn1 = knn1.fit(x_train, y_train)\n",
    "knn5 = knn5.fit(x_train, y_train)\n",
    "knn9 = knn9.fit(x_train, y_train)"
   ]
  },
  {
   "cell_type": "markdown",
   "metadata": {},
   "source": [
    "#### Classificação"
   ]
  },
  {
   "cell_type": "markdown",
   "metadata": {},
   "source": [
    "Então, faça a classificação (também chamada de predição), utilizando a função **predict()** do próprio classificador **knn**. O argumento da função é apenas a entrada de teste, ou seja, **x_test**. Atribua a saída dessa classificação à variável **y_pred**."
   ]
  },
  {
   "cell_type": "code",
   "execution_count": 24,
   "metadata": {},
   "outputs": [],
   "source": [
    "y1_pred = knn1.predict(x_test)\n",
    "y5_pred = knn5.predict(x_test)\n",
    "y9_pred = knn9.predict(x_test)"
   ]
  },
  {
   "cell_type": "markdown",
   "metadata": {},
   "source": [
    "#### Resultados"
   ]
  },
  {
   "cell_type": "markdown",
   "metadata": {},
   "source": [
    "Para analisar os resultados, precisamos utilizar algumas ferramentas e métricas. A biblioteca **sklearn** possui um grande conjunto de funções para essa finalidade em seu pacote **metrics**. Importe as funções **accuracy_score** e **confusion_matrix**."
   ]
  },
  {
   "cell_type": "code",
   "execution_count": 25,
   "metadata": {},
   "outputs": [],
   "source": [
    "from sklearn.metrics import accuracy_score, confusion_matrix"
   ]
  },
  {
   "cell_type": "markdown",
   "metadata": {},
   "source": [
    "Comece utilizando a função **accuracy_score** para calcular a acurácia do classificador. Esta é uma das mais comuns métricas para se verificar o desempenho do classificador. O primeiro argumento da função é o conjunto de saídas esperadas, ou seja, **y_test**; o segundo, o conjunto de saídas obtidas pela predição do classificador utilizado, ou seja, **y_pred**."
   ]
  },
  {
   "cell_type": "code",
   "execution_count": 26,
   "metadata": {},
   "outputs": [
    {
     "name": "stdout",
     "output_type": "stream",
     "text": [
      "Com 1 vizinho:  0.9911111111111112\n",
      "Com 5 vizinhos:  0.9888888888888889\n",
      "Com 9 vizinhos:  0.98\n"
     ]
    }
   ],
   "source": [
    "acuracia1 = accuracy_score(y_test, y1_pred)\n",
    "acuracia5 = accuracy_score(y_test, y5_pred)\n",
    "acuracia9 = accuracy_score(y_test, y9_pred)\n",
    "\n",
    "print(\"Com 1 vizinho: \", acuracia1)\n",
    "print(\"Com 5 vizinhos: \", acuracia5)\n",
    "print(\"Com 9 vizinhos: \", acuracia9)"
   ]
  },
  {
   "cell_type": "markdown",
   "metadata": {},
   "source": [
    "Gere a matriz de confusão utilizando a função **confusion_matrix**."
   ]
  },
  {
   "cell_type": "code",
   "execution_count": 27,
   "metadata": {},
   "outputs": [
    {
     "name": "stdout",
     "output_type": "stream",
     "text": [
      "Matriz com 1 vizinho:\n",
      " [[49  0  0  0  0  0  0  0  0  0]\n",
      " [ 0 37  0  0  0  0  0  0  0  0]\n",
      " [ 0  0 50  1  0  0  0  0  0  0]\n",
      " [ 0  0  0 39  0  0  0  0  0  0]\n",
      " [ 0  0  0  0 54  0  0  0  0  0]\n",
      " [ 0  0  0  0  0 42  1  0  0  0]\n",
      " [ 0  0  0  0  0  0 47  0  0  0]\n",
      " [ 0  0  0  0  0  0  0 44  0  0]\n",
      " [ 0  2  0  0  0  0  0  0 39  0]\n",
      " [ 0  0  0  0  0  0  0  0  0 45]]\n",
      "\n",
      "\n",
      "Matriz com 5 vizinhos:\n",
      " [[49  0  0  0  0  0  0  0  0  0]\n",
      " [ 0 37  0  0  0  0  0  0  0  0]\n",
      " [ 0  0 50  0  0  0  0  1  0  0]\n",
      " [ 0  0  0 39  0  0  0  0  0  0]\n",
      " [ 0  0  0  0 52  0  0  1  1  0]\n",
      " [ 0  0  0  0  0 43  0  0  0  0]\n",
      " [ 0  0  0  0  0  0 46  0  1  0]\n",
      " [ 0  0  0  0  0  0  0 44  0  0]\n",
      " [ 0  1  0  0  0  0  0  0 40  0]\n",
      " [ 0  0  0  0  0  0  0  0  0 45]]\n",
      "\n",
      "\n",
      "Matriz com 9 vizinhos:\n",
      " [[49  0  0  0  0  0  0  0  0  0]\n",
      " [ 0 37  0  0  0  0  0  0  0  0]\n",
      " [ 1  0 49  0  0  0  0  1  0  0]\n",
      " [ 0  0  0 39  0  0  0  0  0  0]\n",
      " [ 0  0  0  0 52  0  0  2  0  0]\n",
      " [ 0  0  0  0  0 42  1  0  0  0]\n",
      " [ 0  0  0  0  0  0 46  0  1  0]\n",
      " [ 0  0  0  0  0  0  0 44  0  0]\n",
      " [ 0  2  1  0  0  0  0  0 38  0]\n",
      " [ 0  0  0  0  0  0  0  0  0 45]]\n"
     ]
    }
   ],
   "source": [
    "mConfusao1 = confusion_matrix(y_test, y1_pred)\n",
    "mConfusao5 = confusion_matrix(y_test, y5_pred)\n",
    "mConfusao9 = confusion_matrix(y_test, y9_pred)\n",
    "\n",
    "print(\"Matriz com 1 vizinho:\\n\", mConfusao1)\n",
    "print(\"\\n\\nMatriz com 5 vizinhos:\\n\", mConfusao5)\n",
    "print(\"\\n\\nMatriz com 9 vizinhos:\\n\", mConfusao9)"
   ]
  },
  {
   "cell_type": "markdown",
   "metadata": {},
   "source": [
    "### Decision Tree"
   ]
  },
  {
   "cell_type": "markdown",
   "metadata": {},
   "source": [
    "#### Treinamento"
   ]
  },
  {
   "cell_type": "code",
   "execution_count": 28,
   "metadata": {},
   "outputs": [],
   "source": [
    "from sklearn.tree import DecisionTreeClassifier"
   ]
  },
  {
   "cell_type": "markdown",
   "metadata": {},
   "source": [
    "Assim como foi feito com o KNN, crie um classificador de Decision Tree chamado **dt** utilizando agora a função **DecisionTreeClassifier**."
   ]
  },
  {
   "cell_type": "code",
   "execution_count": 29,
   "metadata": {},
   "outputs": [],
   "source": [
    "dt = DecisionTreeClassifier()"
   ]
  },
  {
   "cell_type": "markdown",
   "metadata": {},
   "source": [
    "Treine classificador **dt** utilizando a função **fit** com os dados de treinamento, **x_train** e **y_train**, respectivamente."
   ]
  },
  {
   "cell_type": "code",
   "execution_count": 30,
   "metadata": {},
   "outputs": [],
   "source": [
    "dt = dt.fit(x_train, y_train)"
   ]
  },
  {
   "cell_type": "markdown",
   "metadata": {},
   "source": [
    "#### Classificação"
   ]
  },
  {
   "cell_type": "markdown",
   "metadata": {},
   "source": [
    "Faça a classificação dos dados de entrada para testes, **x_test**, utilizando a função **predict** do próprio **dt** e armazene os resultados em **y_pred**."
   ]
  },
  {
   "cell_type": "code",
   "execution_count": 31,
   "metadata": {},
   "outputs": [],
   "source": [
    "y_pred = dt.predict(x_test)"
   ]
  },
  {
   "cell_type": "markdown",
   "metadata": {},
   "source": [
    "#### Resultados"
   ]
  },
  {
   "cell_type": "markdown",
   "metadata": {},
   "source": [
    "Verifique a acurácia do classificador **dt** por meio da função **accuracy_score**."
   ]
  },
  {
   "cell_type": "code",
   "execution_count": 32,
   "metadata": {},
   "outputs": [
    {
     "name": "stdout",
     "output_type": "stream",
     "text": [
      "0.8711111111111111\n"
     ]
    }
   ],
   "source": [
    "acuraciaTree = accuracy_score(y_test, y_pred)\n",
    "print(acuraciaTree)"
   ]
  },
  {
   "cell_type": "markdown",
   "metadata": {},
   "source": [
    "Mostre a matriz de confusão do classificador **dt** utilizando a função **confusion_matrix**."
   ]
  },
  {
   "cell_type": "code",
   "execution_count": 82,
   "metadata": {},
   "outputs": [
    {
     "name": "stdout",
     "output_type": "stream",
     "text": [
      "[[46  0  0  0  1  0  0  0  2  0]\n",
      " [ 0 31  1  1  0  0  0  0  2  2]\n",
      " [ 1  0 45  2  0  0  0  1  2  0]\n",
      " [ 0  2  1 33  0  0  1  0  0  2]\n",
      " [ 0  2  0  0 50  0  1  0  1  0]\n",
      " [ 0  0  0  0  0 39  3  0  1  0]\n",
      " [ 0  1  0  0  3  1 41  1  0  0]\n",
      " [ 0  1  1  0  0  0  0 41  0  1]\n",
      " [ 0  2  1  3  0  2  0  0 32  1]\n",
      " [ 2  0  1  4  0  1  0  3  0 34]]\n"
     ]
    }
   ],
   "source": [
    "mConfusaoTree = confusion_matrix(y_test, y_pred)\n",
    "print(mConfusaoTree)"
   ]
  },
  {
   "cell_type": "markdown",
   "metadata": {},
   "source": [
    "## Questões"
   ]
  },
  {
   "cell_type": "markdown",
   "metadata": {},
   "source": [
    "### 1. O que você entende por \"acurácia\"? Esta métrica é suficiente para avaliar o desempenho de um classificador? Se não, o que mais poderia ser utilizado? E por que?"
   ]
  },
  {
   "cell_type": "markdown",
   "metadata": {},
   "source": [
    "A acurácia de um classificador é um valor que mostra a porcentagem de acertos em relação ao total de predições.\n",
    "\n",
    "Entretanto, esse valor não é totalmente confiável, já que um classificador muito bem treinado para uma determinada base de dados, tendo chegado próximo a 100% de acurácia, pode começar a apresentar falhas ao ser testado com outra base.\n",
    "\n",
    "Por isso, também é necessário avaliar a robustez do classificador, isto é, verificar se ele continua acurado quando exposto a diversas outras bases de dados.\n",
    "\n",
    "Portanto, um classificador apresentar alta acurácia significa dizer que ele é bom somente para aquela determinada base de dados que foi utilizada em seu treinamento. Se, ao ser testado com diversas outras bases ele não apresentar grandes variações em sua acurácia, aí sim seria possível afirmar que ele possui alguma eficiência."
   ]
  },
  {
   "cell_type": "markdown",
   "metadata": {},
   "source": [
    "### 2. Que tipo de informação a matriz de confusão oferece sobre o classificador?"
   ]
  },
  {
   "cell_type": "markdown",
   "metadata": {},
   "source": [
    "Uma matriz de confusão mostra quantas vezes o classificador atribuiu cada uma das classes possiveis para uma determinada classe real. Em outras palavras, ela mostra que os dados da classe \"A\" foram classificados n1 vezes como classe \"A\", n2 vezes como classe \"B\" e assim por diante.\n",
    "\n",
    "Com essa matriz, é possivel avaliar o classificador com parâmetros como acurácia, sensibilidade, especificidade e outros medidores."
   ]
  },
  {
   "cell_type": "markdown",
   "metadata": {},
   "source": [
    "### 3. O que representa cada linha dessa matriz? E cada coluna? E a diagonal principal?"
   ]
  },
  {
   "cell_type": "markdown",
   "metadata": {},
   "source": [
    "Suas linhas representam as classes reais, enquanto suas colunas mostram as classes preditas."
   ]
  },
  {
   "cell_type": "code",
   "execution_count": 88,
   "metadata": {},
   "outputs": [
    {
     "name": "stdout",
     "output_type": "stream",
     "text": [
      "Matriz de Confusão do classificador KNN com 1 vizinho\n",
      " [[49  0  0  0  0  0  0  0  0  0]\n",
      " [ 0 37  0  0  0  0  0  0  0  0]\n",
      " [ 0  0 50  1  0  0  0  0  0  0]\n",
      " [ 0  0  0 39  0  0  0  0  0  0]\n",
      " [ 0  0  0  0 54  0  0  0  0  0]\n",
      " [ 0  0  0  0  0 42  1  0  0  0]\n",
      " [ 0  0  0  0  0  0 47  0  0  0]\n",
      " [ 0  0  0  0  0  0  0 44  0  0]\n",
      " [ 0  2  0  0  0  0  0  0 39  0]\n",
      " [ 0  0  0  0  0  0  0  0  0 45]]\n"
     ]
    }
   ],
   "source": [
    "print(\"Matriz de Confusão do classificador KNN com 1 vizinho\\n\", mConfusao1)"
   ]
  },
  {
   "cell_type": "markdown",
   "metadata": {},
   "source": [
    "No exemplo acima, a primeira linha da matriz mostra como foram classificados os dados que pertenciam à classe \"Número Zero\", a segunda linha mostra como foi a classificação para a classe \"Número Um\", e assim sucessivamente. \n",
    "\n",
    "Como é possivel observar, o classificador (knn com 1 vizinho) acertou 50 vezes que os dados da classe \"Número Dois\" eram de fato da classe \"Número Dois\". Entretanto, em alguma das imagens ele se confundiu, atribuindo um dado da classe \"Número Dois\" à classe \"Número Três\".\n",
    "\n",
    "Sobre a diagonal principal, é possível dizer que ela representa quantas vezes os dados foram classificados de forma correta. A acurácia do classificador tem relação direta com essa diagonal podendo ser calculada pela soma dos valores dessa diagonal dividido pela soma de todos os valores da matriz."
   ]
  },
  {
   "cell_type": "markdown",
   "metadata": {},
   "source": [
    "### 4. Seria possível avaliar, ainda que superficialmente, o desempenho de um classificador se utilizássemos apenas pixels em escala de cinza para representar os valores de uma matriz de confusão? Por que?"
   ]
  },
  {
   "cell_type": "markdown",
   "metadata": {},
   "source": [
    "Sim.\n",
    "\n",
    "Se pensarmos na escala de cinza como uma porcentagem, isto é, considerando o preto como 0% e o branco como 100%, seria possivel realizar uma avaliação, ainda que não muito precisa, sobre o classificador.\n",
    "\n",
    "Abaixo, é mostrada a matriz de confusão do classificador Decision Tree em escala de cinza. Na imagem, é possivel perceber que o classificador conseguiu atingir maior sensibilidade na classe \"Número Quatro\", já que é o ponto mais claro na figura.\n",
    "\n",
    "Pensando nisso, a melhor matriz de confusão em escala de cinza seria aquela em que a diagonal principal estivesse completamente branca e todos os outros pontos estivessem pretos. Isso representaria uma acurácia de 100%."
   ]
  },
  {
   "cell_type": "code",
   "execution_count": 89,
   "metadata": {},
   "outputs": [
    {
     "name": "stdout",
     "output_type": "stream",
     "text": [
      "[[46  0  0  0  1  0  0  0  2  0]\n",
      " [ 0 31  1  1  0  0  0  0  2  2]\n",
      " [ 1  0 45  2  0  0  0  1  2  0]\n",
      " [ 0  2  1 33  0  0  1  0  0  2]\n",
      " [ 0  2  0  0 50  0  1  0  1  0]\n",
      " [ 0  0  0  0  0 39  3  0  1  0]\n",
      " [ 0  1  0  0  3  1 41  1  0  0]\n",
      " [ 0  1  1  0  0  0  0 41  0  1]\n",
      " [ 0  2  1  3  0  2  0  0 32  1]\n",
      " [ 2  0  1  4  0  1  0  3  0 34]]\n"
     ]
    },
    {
     "data": {
      "text/plain": [
       "<matplotlib.image.AxesImage at 0x7f76fe1898d0>"
      ]
     },
     "execution_count": 89,
     "metadata": {},
     "output_type": "execute_result"
    },
    {
     "data": {
      "image/png": "[encoded data removed]",
      "text/plain": [
       "<Figure size 432x288 with 1 Axes>"
      ]
     },
     "metadata": {},
     "output_type": "display_data"
    }
   ],
   "source": [
    "print(mConfusaoTree)\n",
    "plt.imshow(mConfusaoTree, cmap='gray')"
   ]
  },
  {
   "cell_type": "markdown",
   "metadata": {},
   "source": [
    "### 5. Quais critérios você utilizaria para escolher o número de vizinhos do algoritmo KNN? Por que? E como isso pode influenciar no desempenho do algoritmo?"
   ]
  },
  {
   "cell_type": "markdown",
   "metadata": {},
   "source": [
    "O método de validação Holdout poderia ser usado para estimar o melhor número de vizinhos no algoritmo KNN.\n",
    "\n",
    "Esse método consiste em separar aleatóriamente a base de dados em um grupo de teste e outro de treinamento em uma determinada proporção. Depois disso, verifica-se a acurácia do classificador. O processo é repetido diversas vezes, e a acurácia total é a média de todas as acurácias obtidas nos passos anteriores.\n",
    "\n",
    "Nesse exercício, por exemplo, poderia-se calcular a acurácia média de 100 repetições para 1, 3, 5, 7 e 9 vizinhos. Ao final, determina-se o melhor número de vizinhos."
   ]
  },
  {
   "cell_type": "code",
   "execution_count": 94,
   "metadata": {},
   "outputs": [
    {
     "name": "stdout",
     "output_type": "stream",
     "text": [
      "Acuracia média com  1  vizinho(s):  0.9911111111111098 \n",
      "\n",
      "Acuracia média com  3  vizinho(s):  0.9955555555555579 \n",
      "\n",
      "Acuracia média com  5  vizinho(s):  0.9888888888888864 \n",
      "\n",
      "Acuracia média com  7  vizinho(s):  0.9844444444444436 \n",
      "\n",
      "Acuracia média com  9  vizinho(s):  0.9800000000000009 \n",
      "\n"
     ]
    }
   ],
   "source": [
    "vizinhos = [1,3,5,7,9]\n",
    "\n",
    "for qtdVizinhos in vizinhos:\n",
    "    acuracia = 0.0\n",
    "    for j in range(100):\n",
    "        x_train, x_test, y_train, y_test = train_test_split(digits_img, digits_target, test_size=0.25, random_state=100)\n",
    "        knn = KNeighborsClassifier(qtdVizinhos)\n",
    "        knn = knn.fit(x_train, y_train)\n",
    "        y_pred = knn.predict(x_test)\n",
    "        acuracia = acuracia + (accuracy_score(y_test, y_pred)/100)\n",
    "    print(\"Acuracia média com \", qtdVizinhos, \" vizinho(s): \", acuracia, \"\\n\")"
   ]
  },
  {
   "cell_type": "markdown",
   "metadata": {},
   "source": [
    "Como é possivel observar, rodar o algoritmo com 3 vizinhos parece ser a melhor opção para a base de dados utilizada nesse exercício. Esse número não seria necessariamente o mesmo em outros problemas que envolvem features diferentes.\n",
    "\n",
    "O desempenho do algoritmo pode ser prejudicado conforme o número de vizinhos é acrescido já que ele compara a distância de todos os pontos em relação ao novo dado. Se escolhermos um número muito grande de vizinhos, o algoritmo irá demorar mais para contar qual foi a classe que mais apareceu entre os K vizinhos mais próximos.\n",
    "\n",
    "https://pt.wikipedia.org/wiki/Valida%C3%A7%C3%A3o_cruzada#M%C3%A9todo_holdout"
   ]
  },
  {
   "cell_type": "markdown",
   "metadata": {},
   "source": [
    "### 6. Algum dos dois classificadores explorados neste laboratório é não paramétrico? Se sim, o que o permite fazer tal afirmação?"
   ]
  },
  {
   "cell_type": "markdown",
   "metadata": {},
   "source": [
    "Ambos são não paramétricos.\n",
    "\n",
    "Em classificadores paramétricos, o número de parâmetros é fixo. Já em modelos não paramétricos, como é o caso do KNN, o número de parâmetros cresce com o tamanho da base de treinamento. Como o algoritmo faz um loop por todos os pontos antes de classificar um novo dado, conforme mais e mais dados vão sendo adicionados na fase de treinamento, mais complexo vai ficando o algoritmo e mais parâmetros ele levará em conta antes de classificar um novo ponto.\n",
    "\n",
    "O mesmo ocorre com o Decision Tree. No inicio não se sabe quantos ramos a árvore terá. Dependendo da quantidade de dados avaliados na fase de treinamento, esse número pode variar.\n",
    "\n",
    "\n",
    "https://stats.stackexchange.com/questions/268638/confusion-about-parametric-and-non-parametric-model\n",
    "https://sebastianraschka.com/faq/docs/parametric_vs_nonparametric.html\n",
    "https://machinelearningmastery.com/parametric-and-nonparametric-machine-learning-algorithms/"
   ]
  },
  {
   "cell_type": "markdown",
   "metadata": {},
   "source": [
    "### 7. Qual dos dois classificadores se saiu melhor neste laboratório? Por que? Caso fossem utilizados estes mesmos classificadores para classificar digitos de outra base de dados, o classificador com melhor desempenho ainda seria necessariamente o mesmo? Por que?"
   ]
  },
  {
   "cell_type": "markdown",
   "metadata": {},
   "source": [
    "Nesse caso o KNN se saiu melhor, mas isso não significa que esse tipo de algoritmo seja melhor que o Decision Tree. Em outros casos, o DT poderia ter se saido melhor.\n",
    "\n",
    "Segundo as fontes abaixo, por lidar diretamente com distâncias, o KNN se adequa melhor a valores númericos e contínuos, como é o caso deste exercício. Já o DT obtém um desempenho melhor quando lida com dados rotulados e discretos, como, por exemplo, quando avalia se um determinado cliente de banco pagará um certo empréstimo. Nesse caso, as features seriam majoritariamente discretas, como \"Possui renda fixa?\", \"Possui casa própria?\", entre outras.\n",
    "\n",
    "\"KNN determines neighborhoods, so there must be a distance metric. This implies that all features must be numeric. Distance metrics may be effected by varying scales between attributes and also high-dimensional space.\n",
    "DT on the other hand predicts a class for a given input vector. The attributes may be numeric or nominal.\"\n",
    "\n",
    "https://www.researchgate.net/post/What_are_pros_and_cons_of_decision_tree_versus_other_classifier_as_KNN_SVM_NN\n",
    "https://datascience.stackexchange.com/questions/9228/decision-tree-vs-knn"
   ]
  },
  {
   "cell_type": "markdown",
   "metadata": {},
   "source": [
    "## Referências"
   ]
  },
  {
   "cell_type": "markdown",
   "metadata": {},
   "source": [
    "[Scikit-Learn - Datasets](http://scikit-learn.org/stable/datasets/index.html)\n",
    "\n",
    "[Matplotlib - Pyplot](https://matplotlib.org/api/pyplot_summary.html)\n",
    "\n",
    "[Numpy](https://docs.scipy.org/doc/numpy/reference/)\n",
    "\n",
    "[Scikit-Learn - Train, Test and Split](http://scikit-learn.org/stable/modules/generated/sklearn.model_selection.train_test_split.html)\n",
    "\n",
    "[Scikit-Learn - KNeighborsClassifier](http://scikit-learn.org/stable/modules/generated/sklearn.neighbors.KNeighborsClassifier.html)\n",
    "\n",
    "[Scikit-Learn - DecisionTreeClassifier](http://scikit-learn.org/stable/modules/generated/sklearn.tree.DecisionTreeClassifier.html)\n",
    "\n",
    "[Scikit-Learn - Accuracy Score](http://scikit-learn.org/stable/modules/generated/sklearn.metrics.accuracy_score.html)\n",
    "\n",
    "[Scikit-Learn - Confusion Matrix](http://scikit-learn.org/stable/modules/generated/sklearn.metrics.confusion_matrix.html)"
   ]
  }
 ],
 "metadata": {
  "kernelspec": {
   "display_name": "Python 3",
   "language": "python",
   "name": "python3"
  },
  "language_info": {
   "codemirror_mode": {
    "name": "ipython",
    "version": 3
   },
   "file_extension": ".py",
   "mimetype": "text/x-python",
   "name": "python",
   "nbconvert_exporter": "python",
   "pygments_lexer": "ipython3",
   "version": "3.5.2"
  }
 },
 "nbformat": 4,
 "nbformat_minor": 2
}
